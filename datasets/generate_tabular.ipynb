{
 "cells": [
  {
   "cell_type": "code",
   "execution_count": 1,
   "id": "78c53a66-728f-4586-be9c-eb72f32d49eb",
   "metadata": {},
   "outputs": [],
   "source": [
    "import json\n",
    "\n",
    "import numpy as np\n",
    "import pandas as pd\n",
    "import torch\n",
    "from torch.utils.data import DataLoader, Dataset, TensorDataset"
   ]
  },
  {
   "cell_type": "code",
   "execution_count": 2,
   "id": "1ad44078-6649-433c-89f0-1e83f250a2f2",
   "metadata": {},
   "outputs": [],
   "source": [
    "with open(\n",
    "    \"../data/s3/mimic_iv__multiclass_multioutput__json_files/sample__test_set__chexpert.json\"\n",
    ") as f:\n",
    "    data = json.load(f)\n",
    "    np.asarray(data)"
   ]
  },
  {
   "cell_type": "code",
   "execution_count": 3,
   "id": "88912b7a-7436-4c1e-ba27-c63c6b028601",
   "metadata": {},
   "outputs": [],
   "source": [
    "input_cols = [\n",
    "    \"patient_id\",\n",
    "    \"visit_id\",\n",
    "    \"study_id\",\n",
    "    \"temperature\",\n",
    "    \"heartrate\",\n",
    "    \"resprate\",\n",
    "    \"o2sat\",\n",
    "    \"sbp\",\n",
    "    \"dbp\",\n",
    "]\n",
    "output_cols = [\n",
    "    \"atelectasis\",\n",
    "    \"cardiomegaly\",\n",
    "    \"edema\",\n",
    "    \"lung_opacity\",\n",
    "    \"pleural_effusion\",\n",
    "    \"pneumonia\",\n",
    "]\n",
    "input_df = pd.DataFrame(\n",
    "    data=data,\n",
    "    columns=input_cols,\n",
    ")\n",
    "output_df = pd.DataFrame(data=data, columns=output_cols)\n",
    "input_df = input_df.astype(\n",
    "    {\n",
    "        \"patient_id\": int,\n",
    "        \"study_id\": int,\n",
    "    }\n",
    ")\n",
    "output_df = output_df.astype(\n",
    "    {\n",
    "        \"atelectasis\": int,\n",
    "        \"cardiomegaly\": int,\n",
    "        \"edema\": int,\n",
    "        \"lung_opacity\": int,\n",
    "        \"pleural_effusion\": int,\n",
    "        \"pneumonia\": int,\n",
    "    }\n",
    ")"
   ]
  },
  {
   "cell_type": "code",
   "execution_count": 4,
   "id": "aebe692b-1095-4093-b1ad-bb370d8d9eb6",
   "metadata": {},
   "outputs": [],
   "source": [
    "def scale_min_max(df, col_name):\n",
    "    xmin = df[col_name].min()\n",
    "    xmax = df[col_name].max()\n",
    "    df[col_name] = (df[col_name] - xmin) / (xmax - xmin)\n",
    "    return df"
   ]
  },
  {
   "cell_type": "code",
   "execution_count": 5,
   "id": "db296fb9-7ddf-4370-88e9-7f690ad1c259",
   "metadata": {},
   "outputs": [],
   "source": [
    "input_df = scale_min_max(input_df, \"temperature\")\n",
    "input_df = scale_min_max(input_df, \"heartrate\")\n",
    "input_df = scale_min_max(input_df, \"resprate\")\n",
    "input_df = scale_min_max(input_df, \"sbp\")\n",
    "input_df = scale_min_max(input_df, \"dbp\")\n",
    "input_df[\"o2sat\"] = input_df[\"o2sat\"] * 0.01"
   ]
  },
  {
   "cell_type": "code",
   "execution_count": 6,
   "id": "b8e2c867-aea7-4373-bf23-9e1e917f7297",
   "metadata": {},
   "outputs": [],
   "source": [
    "input_tensor = torch.tensor(input_df.values)"
   ]
  },
  {
   "cell_type": "code",
   "execution_count": 7,
   "id": "b32f1f80-4ebf-4040-b294-64d6e7d24f8c",
   "metadata": {},
   "outputs": [],
   "source": [
    "output_tensor = torch.tensor(output_df.values)"
   ]
  },
  {
   "cell_type": "code",
   "execution_count": 8,
   "id": "371d0962-8eee-424a-b57a-2711accd0dcb",
   "metadata": {},
   "outputs": [],
   "source": [
    "test = TensorDataset(input_tensor, output_tensor)"
   ]
  },
  {
   "cell_type": "code",
   "execution_count": 9,
   "id": "0aad285a-6f2a-4e9b-88f0-daeef2bafc06",
   "metadata": {},
   "outputs": [
    {
     "data": {
      "text/plain": [
       "tensor([1, 0, 0, 0, 0, 1])"
      ]
     },
     "execution_count": 9,
     "metadata": {},
     "output_type": "execute_result"
    }
   ],
   "source": [
    "test[0][1]"
   ]
  },
  {
   "cell_type": "code",
   "execution_count": 10,
   "id": "52e9efee-74d5-4fa2-9fc7-68f85f1b4c27",
   "metadata": {},
   "outputs": [
    {
     "data": {
      "text/html": [
       "<div>\n",
       "<style scoped>\n",
       "    .dataframe tbody tr th:only-of-type {\n",
       "        vertical-align: middle;\n",
       "    }\n",
       "\n",
       "    .dataframe tbody tr th {\n",
       "        vertical-align: top;\n",
       "    }\n",
       "\n",
       "    .dataframe thead th {\n",
       "        text-align: right;\n",
       "    }\n",
       "</style>\n",
       "<table border=\"1\" class=\"dataframe\">\n",
       "  <thead>\n",
       "    <tr style=\"text-align: right;\">\n",
       "      <th></th>\n",
       "      <th>atelectasis</th>\n",
       "      <th>cardiomegaly</th>\n",
       "      <th>edema</th>\n",
       "      <th>lung_opacity</th>\n",
       "      <th>pleural_effusion</th>\n",
       "      <th>pneumonia</th>\n",
       "    </tr>\n",
       "  </thead>\n",
       "  <tbody>\n",
       "    <tr>\n",
       "      <th>2561</th>\n",
       "      <td>1</td>\n",
       "      <td>0</td>\n",
       "      <td>0</td>\n",
       "      <td>0</td>\n",
       "      <td>0</td>\n",
       "      <td>1</td>\n",
       "    </tr>\n",
       "  </tbody>\n",
       "</table>\n",
       "</div>"
      ],
      "text/plain": [
       "      atelectasis  cardiomegaly  edema  lung_opacity  pleural_effusion  \\\n",
       "2561            1             0      0             0                 0   \n",
       "\n",
       "      pneumonia  \n",
       "2561          1  "
      ]
     },
     "execution_count": 10,
     "metadata": {},
     "output_type": "execute_result"
    }
   ],
   "source": [
    "output_df.head(1)"
   ]
  },
  {
   "cell_type": "code",
   "execution_count": 11,
   "id": "61f52864-6ccb-443d-9b19-6b69f03b11ff",
   "metadata": {},
   "outputs": [
    {
     "data": {
      "text/plain": [
       "tensor([1.0595e+07, 2.4341e+07, 5.1622e+07, 5.3896e-01, 3.5433e-01, 2.0000e-01,\n",
       "        9.9000e-01, 8.5279e-01, 4.8485e-01], dtype=torch.float64)"
      ]
     },
     "execution_count": 11,
     "metadata": {},
     "output_type": "execute_result"
    }
   ],
   "source": [
    "test[0][0]"
   ]
  },
  {
   "cell_type": "code",
   "execution_count": 12,
   "id": "2f12bff7-5724-488c-b8d5-6c74ddd51b47",
   "metadata": {},
   "outputs": [
    {
     "data": {
      "text/html": [
       "<div>\n",
       "<style scoped>\n",
       "    .dataframe tbody tr th:only-of-type {\n",
       "        vertical-align: middle;\n",
       "    }\n",
       "\n",
       "    .dataframe tbody tr th {\n",
       "        vertical-align: top;\n",
       "    }\n",
       "\n",
       "    .dataframe thead th {\n",
       "        text-align: right;\n",
       "    }\n",
       "</style>\n",
       "<table border=\"1\" class=\"dataframe\">\n",
       "  <thead>\n",
       "    <tr style=\"text-align: right;\">\n",
       "      <th></th>\n",
       "      <th>patient_id</th>\n",
       "      <th>visit_id</th>\n",
       "      <th>study_id</th>\n",
       "      <th>temperature</th>\n",
       "      <th>heartrate</th>\n",
       "      <th>resprate</th>\n",
       "      <th>o2sat</th>\n",
       "      <th>sbp</th>\n",
       "      <th>dbp</th>\n",
       "    </tr>\n",
       "  </thead>\n",
       "  <tbody>\n",
       "    <tr>\n",
       "      <th>2561</th>\n",
       "      <td>10594962</td>\n",
       "      <td>24340966</td>\n",
       "      <td>51621916</td>\n",
       "      <td>0.538961</td>\n",
       "      <td>0.354331</td>\n",
       "      <td>0.2</td>\n",
       "      <td>0.99</td>\n",
       "      <td>0.852792</td>\n",
       "      <td>0.484848</td>\n",
       "    </tr>\n",
       "  </tbody>\n",
       "</table>\n",
       "</div>"
      ],
      "text/plain": [
       "      patient_id  visit_id  study_id  temperature  heartrate  resprate  o2sat  \\\n",
       "2561    10594962  24340966  51621916     0.538961   0.354331       0.2   0.99   \n",
       "\n",
       "           sbp       dbp  \n",
       "2561  0.852792  0.484848  "
      ]
     },
     "execution_count": 12,
     "metadata": {},
     "output_type": "execute_result"
    }
   ],
   "source": [
    "input_df.head(1)"
   ]
  },
  {
   "cell_type": "code",
   "execution_count": 16,
   "id": "febc6ffa-d95d-481d-b335-f0c3cb71e466",
   "metadata": {},
   "outputs": [],
   "source": [
    "def get_tabular_df(path):\n",
    "    \"\"\"\n",
    "    Generates the tabular dataframes\n",
    "    \"\"\"\n",
    "    with open(path) as f:\n",
    "        data = json.load(f)\n",
    "    input_cols = [\n",
    "        \"patient_id\",\n",
    "        \"visit_id\",\n",
    "        \"study_id\",\n",
    "        \"temperature\",\n",
    "        \"heartrate\",\n",
    "        \"resprate\",\n",
    "        \"o2sat\",\n",
    "        \"sbp\",\n",
    "        \"dbp\",\n",
    "    ]\n",
    "    output_cols = [\n",
    "        \"atelectasis\",\n",
    "        \"cardiomegaly\",\n",
    "        \"edema\",\n",
    "        \"lung_opacity\",\n",
    "        \"pleural_effusion\",\n",
    "        \"pneumonia\",\n",
    "    ]\n",
    "    input_df = pd.DataFrame(\n",
    "        data=data,\n",
    "        columns=input_cols,\n",
    "    )\n",
    "    output_df = pd.DataFrame(data=data, columns=output_cols)\n",
    "    input_df = input_df.astype(\n",
    "        {\n",
    "            \"patient_id\": int,\n",
    "            \"study_id\": int,\n",
    "        }\n",
    "    )\n",
    "    output_df = output_df.astype(\n",
    "        {\n",
    "            \"atelectasis\": int,\n",
    "            \"cardiomegaly\": int,\n",
    "            \"edema\": int,\n",
    "            \"lung_opacity\": int,\n",
    "            \"pleural_effusion\": int,\n",
    "            \"pneumonia\": int,\n",
    "        }\n",
    "    )\n",
    "    return [input_df, output_df]"
   ]
  },
  {
   "cell_type": "code",
   "execution_count": 17,
   "id": "fba71247-9b66-485d-9ba1-e7260c6fc7d1",
   "metadata": {},
   "outputs": [],
   "source": [
    "def generate_tabular(path, name, all_inputs):\n",
    "    \"\"\"\n",
    "    Generates the tabular tensor files for loading.\n",
    "    \"\"\"\n",
    "    with open(path) as f:\n",
    "        data = json.load(f)\n",
    "    input_cols = [\n",
    "        \"patient_id\",\n",
    "        \"visit_id\",\n",
    "        \"study_id\",\n",
    "        \"temperature\",\n",
    "        \"heartrate\",\n",
    "        \"resprate\",\n",
    "        \"o2sat\",\n",
    "        \"sbp\",\n",
    "        \"dbp\",\n",
    "    ]\n",
    "    output_cols = [\n",
    "        \"atelectasis\",\n",
    "        \"cardiomegaly\",\n",
    "        \"edema\",\n",
    "        \"lung_opacity\",\n",
    "        \"pleural_effusion\",\n",
    "        \"pneumonia\",\n",
    "    ]\n",
    "    input_df = pd.DataFrame(\n",
    "        data=data,\n",
    "        columns=input_cols,\n",
    "    )\n",
    "    output_df = pd.DataFrame(data=data, columns=output_cols)\n",
    "    input_df = input_df.astype(\n",
    "        {\n",
    "            \"patient_id\": int,\n",
    "            \"study_id\": int,\n",
    "        }\n",
    "    )\n",
    "    output_df = output_df.astype(\n",
    "        {\n",
    "            \"atelectasis\": int,\n",
    "            \"cardiomegaly\": int,\n",
    "            \"edema\": int,\n",
    "            \"lung_opacity\": int,\n",
    "            \"pleural_effusion\": int,\n",
    "            \"pneumonia\": int,\n",
    "        }\n",
    "    )\n",
    "    def scale_min_max(df, col_name):\n",
    "        xmin = all_inputs[col_name].min()\n",
    "        xmax = all_inputs[col_name].max()\n",
    "        df[col_name] = (df[col_name] - xmin) / (xmax - xmin)\n",
    "        return df\n",
    "\n",
    "    # normalize\n",
    "    input_df = scale_min_max(input_df, \"temperature\")\n",
    "    input_df = scale_min_max(input_df, \"heartrate\")\n",
    "    input_df = scale_min_max(input_df, \"resprate\")\n",
    "    input_df = scale_min_max(input_df, \"sbp\")\n",
    "    input_df = scale_min_max(input_df, \"dbp\")\n",
    "    input_df[\"o2sat\"] = input_df[\"o2sat\"] * 0.01\n",
    "\n",
    "    # generate tensors\n",
    "    input_tensor = torch.tensor(input_df.values)\n",
    "    output_tensor = torch.tensor(output_df.values)\n",
    "\n",
    "    ds = TensorDataset(input_tensor, output_tensor)\n",
    "    torch.save(ds, \"../data/s3/tensors/\" + name)\n",
    "    print(\"generated \" + name)"
   ]
  },
  {
   "cell_type": "code",
   "execution_count": 19,
   "id": "10dcddad-6367-40de-835a-24f2d421a124",
   "metadata": {},
   "outputs": [
    {
     "name": "stdout",
     "output_type": "stream",
     "text": [
      "generated tabular_test.pt\n",
      "generated tabular_train.pt\n",
      "generated tabular_valid.pt\n"
     ]
    }
   ],
   "source": [
    "root = \"../data/s3/mimic_iv__multiclass_multioutput__json_files/\"\n",
    "paths = [\n",
    "    [\"tabular_test.pt\", \"test_set__chexpert.json\"],\n",
    "    [\"tabular_train.pt\", \"train_set__chexpert.json\"],\n",
    "    [\"tabular_valid.pt\", \"validation_set__chexpert.json\"],\n",
    "]\n",
    "inputs = []\n",
    "outputs = []\n",
    "for [name, path] in paths:\n",
    "    [input_df, output_df] = get_tabular_df(root + path)\n",
    "    inputs.append(input_df)\n",
    "\n",
    "all_inputs = pd.concat(inputs, axis=0)\n",
    "\n",
    "for [name, path] in paths:\n",
    "    generate_tabular(root + path, name, all_inputs)"
   ]
  },
  {
   "cell_type": "code",
   "execution_count": 24,
   "id": "761fc015-077e-4a74-b064-96d252859cd8",
   "metadata": {},
   "outputs": [
    {
     "data": {
      "text/plain": [
       "array(['patient_id', 'visit_id', 'study_id', 'temperature', 'heartrate',\n",
       "       'resprate', 'o2sat', 'sbp', 'dbp'], dtype=object)"
      ]
     },
     "execution_count": 24,
     "metadata": {},
     "output_type": "execute_result"
    }
   ],
   "source": [
    "np.array(input_df.columns)"
   ]
  },
  {
   "cell_type": "code",
   "execution_count": 25,
   "id": "f5a9febc-c400-4669-ad40-8835a2385f34",
   "metadata": {},
   "outputs": [
    {
     "data": {
      "text/plain": [
       "array(['atelectasis', 'cardiomegaly', 'edema', 'lung_opacity',\n",
       "       'pleural_effusion', 'pneumonia'], dtype=object)"
      ]
     },
     "execution_count": 25,
     "metadata": {},
     "output_type": "execute_result"
    }
   ],
   "source": [
    "np.array(output_df.columns)"
   ]
  },
  {
   "cell_type": "code",
   "execution_count": 34,
   "id": "f1e18613-5f1d-4d7e-9ed0-4bd850dd06d9",
   "metadata": {},
   "outputs": [
    {
     "data": {
      "text/plain": [
       "array(['atelectasis', ' cardiomegaly', ' edema', ' lung_opacity',\n",
       "       ' pleural_effusion', ' pneumonia'], dtype='<U17')"
      ]
     },
     "execution_count": 34,
     "metadata": {},
     "output_type": "execute_result"
    }
   ],
   "source": [
    "np.loadtxt(\"../data/s3/tensors/tabular_label_names.txt\", delimiter=\",\", dtype=\"str\")"
   ]
  },
  {
   "cell_type": "code",
   "execution_count": 2,
   "id": "92e079f8-be56-47fc-9823-400e9cbf3e2d",
   "metadata": {},
   "outputs": [],
   "source": [
    "from types import SimpleNamespace\n",
    "\n",
    "import mimic"
   ]
  },
  {
   "cell_type": "code",
   "execution_count": 3,
   "id": "e2e62732-d995-402d-9ad4-b3a7c7d7b802",
   "metadata": {},
   "outputs": [],
   "source": [
    "config_test = '{\"data_mode\": \"tabular_numpy_train\", \"batch_size\": 32}'\n",
    "x = json.loads(config_test, object_hook=lambda d: SimpleNamespace(**d))\n",
    "dataloaders = mimic.MimicDataLoader(x)"
   ]
  },
  {
   "cell_type": "code",
   "execution_count": 20,
   "id": "d4f41caa-5f00-4471-85c7-73778d23ae06",
   "metadata": {},
   "outputs": [],
   "source": [
    "train = torch.load('../data/s3/tensors/tabular_train.pt')"
   ]
  },
  {
   "cell_type": "code",
   "execution_count": 21,
   "id": "372f5e90-3a8a-42f0-a1b0-8dfc1014eead",
   "metadata": {},
   "outputs": [],
   "source": [
    "valid = torch.load('../data/s3/tensors/tabular_valid.pt')"
   ]
  },
  {
   "cell_type": "code",
   "execution_count": 22,
   "id": "1ef39798-0733-4d91-9ba9-c80a5ebe07da",
   "metadata": {},
   "outputs": [
    {
     "data": {
      "text/plain": [
       "11272"
      ]
     },
     "execution_count": 22,
     "metadata": {},
     "output_type": "execute_result"
    }
   ],
   "source": [
    "len(train)"
   ]
  },
  {
   "cell_type": "code",
   "execution_count": 23,
   "id": "600a8620-6e2e-4cd0-8ed0-a524077f4ea3",
   "metadata": {},
   "outputs": [
    {
     "data": {
      "text/plain": [
       "2818"
      ]
     },
     "execution_count": 23,
     "metadata": {},
     "output_type": "execute_result"
    }
   ],
   "source": [
    "len(valid)"
   ]
  },
  {
   "cell_type": "code",
   "execution_count": 26,
   "id": "772691c2-4f16-465c-b5f7-f1d98baa838d",
   "metadata": {},
   "outputs": [
    {
     "data": {
      "text/html": [
       "<div>\n",
       "<style scoped>\n",
       "    .dataframe tbody tr th:only-of-type {\n",
       "        vertical-align: middle;\n",
       "    }\n",
       "\n",
       "    .dataframe tbody tr th {\n",
       "        vertical-align: top;\n",
       "    }\n",
       "\n",
       "    .dataframe thead th {\n",
       "        text-align: right;\n",
       "    }\n",
       "</style>\n",
       "<table border=\"1\" class=\"dataframe\">\n",
       "  <thead>\n",
       "    <tr style=\"text-align: right;\">\n",
       "      <th></th>\n",
       "      <th>atelectasis</th>\n",
       "      <th>cardiomegaly</th>\n",
       "      <th>edema</th>\n",
       "      <th>lung_opacity</th>\n",
       "      <th>pleural_effusion</th>\n",
       "      <th>pneumonia</th>\n",
       "    </tr>\n",
       "  </thead>\n",
       "  <tbody>\n",
       "    <tr>\n",
       "      <th>0</th>\n",
       "      <td>0</td>\n",
       "      <td>1</td>\n",
       "      <td>0</td>\n",
       "      <td>0</td>\n",
       "      <td>0</td>\n",
       "      <td>0</td>\n",
       "    </tr>\n",
       "    <tr>\n",
       "      <th>1</th>\n",
       "      <td>0</td>\n",
       "      <td>0</td>\n",
       "      <td>0</td>\n",
       "      <td>0</td>\n",
       "      <td>0</td>\n",
       "      <td>0</td>\n",
       "    </tr>\n",
       "    <tr>\n",
       "      <th>2</th>\n",
       "      <td>0</td>\n",
       "      <td>0</td>\n",
       "      <td>0</td>\n",
       "      <td>0</td>\n",
       "      <td>0</td>\n",
       "      <td>0</td>\n",
       "    </tr>\n",
       "    <tr>\n",
       "      <th>3</th>\n",
       "      <td>0</td>\n",
       "      <td>0</td>\n",
       "      <td>0</td>\n",
       "      <td>0</td>\n",
       "      <td>0</td>\n",
       "      <td>0</td>\n",
       "    </tr>\n",
       "    <tr>\n",
       "      <th>4</th>\n",
       "      <td>0</td>\n",
       "      <td>0</td>\n",
       "      <td>0</td>\n",
       "      <td>0</td>\n",
       "      <td>0</td>\n",
       "      <td>0</td>\n",
       "    </tr>\n",
       "    <tr>\n",
       "      <th>5</th>\n",
       "      <td>0</td>\n",
       "      <td>0</td>\n",
       "      <td>0</td>\n",
       "      <td>1</td>\n",
       "      <td>0</td>\n",
       "      <td>0</td>\n",
       "    </tr>\n",
       "    <tr>\n",
       "      <th>6</th>\n",
       "      <td>0</td>\n",
       "      <td>0</td>\n",
       "      <td>0</td>\n",
       "      <td>1</td>\n",
       "      <td>0</td>\n",
       "      <td>1</td>\n",
       "    </tr>\n",
       "    <tr>\n",
       "      <th>7</th>\n",
       "      <td>0</td>\n",
       "      <td>0</td>\n",
       "      <td>0</td>\n",
       "      <td>1</td>\n",
       "      <td>0</td>\n",
       "      <td>0</td>\n",
       "    </tr>\n",
       "    <tr>\n",
       "      <th>8</th>\n",
       "      <td>1</td>\n",
       "      <td>0</td>\n",
       "      <td>0</td>\n",
       "      <td>1</td>\n",
       "      <td>0</td>\n",
       "      <td>0</td>\n",
       "    </tr>\n",
       "    <tr>\n",
       "      <th>9</th>\n",
       "      <td>1</td>\n",
       "      <td>0</td>\n",
       "      <td>0</td>\n",
       "      <td>0</td>\n",
       "      <td>0</td>\n",
       "      <td>0</td>\n",
       "    </tr>\n",
       "  </tbody>\n",
       "</table>\n",
       "</div>"
      ],
      "text/plain": [
       "   atelectasis  cardiomegaly  edema  lung_opacity  pleural_effusion  pneumonia\n",
       "0            0             1      0             0                 0          0\n",
       "1            0             0      0             0                 0          0\n",
       "2            0             0      0             0                 0          0\n",
       "3            0             0      0             0                 0          0\n",
       "4            0             0      0             0                 0          0\n",
       "5            0             0      0             1                 0          0\n",
       "6            0             0      0             1                 0          1\n",
       "7            0             0      0             1                 0          0\n",
       "8            1             0      0             1                 0          0\n",
       "9            1             0      0             0                 0          0"
      ]
     },
     "execution_count": 26,
     "metadata": {},
     "output_type": "execute_result"
    }
   ],
   "source": [
    "output_df.head(10)"
   ]
  },
  {
   "cell_type": "code",
   "execution_count": 30,
   "id": "e58f42de-3e88-473b-9f59-93554c3e7a00",
   "metadata": {},
   "outputs": [
    {
     "data": {
      "text/plain": [
       "atelectasis        NaN\n",
       "cardiomegaly       NaN\n",
       "dbp                NaN\n",
       "edema              NaN\n",
       "heartrate          NaN\n",
       "lung_opacity       NaN\n",
       "o2sat              NaN\n",
       "patient_id         NaN\n",
       "pleural_effusion   NaN\n",
       "pneumonia          NaN\n",
       "resprate           NaN\n",
       "sbp                NaN\n",
       "study_id           NaN\n",
       "temperature        NaN\n",
       "visit_id           NaN\n",
       "dtype: float64"
      ]
     },
     "execution_count": 30,
     "metadata": {},
     "output_type": "execute_result"
    }
   ],
   "source": [
    "input_df.corrwith(output_df, axis=0)"
   ]
  },
  {
   "cell_type": "code",
   "execution_count": 28,
   "id": "f6686258-5f6a-4b52-ab8b-14571444fce5",
   "metadata": {},
   "outputs": [
    {
     "data": {
      "text/html": [
       "<div>\n",
       "<style scoped>\n",
       "    .dataframe tbody tr th:only-of-type {\n",
       "        vertical-align: middle;\n",
       "    }\n",
       "\n",
       "    .dataframe tbody tr th {\n",
       "        vertical-align: top;\n",
       "    }\n",
       "\n",
       "    .dataframe thead th {\n",
       "        text-align: right;\n",
       "    }\n",
       "</style>\n",
       "<table border=\"1\" class=\"dataframe\">\n",
       "  <thead>\n",
       "    <tr style=\"text-align: right;\">\n",
       "      <th></th>\n",
       "      <th>patient_id</th>\n",
       "      <th>visit_id</th>\n",
       "      <th>study_id</th>\n",
       "      <th>temperature</th>\n",
       "      <th>heartrate</th>\n",
       "      <th>resprate</th>\n",
       "      <th>o2sat</th>\n",
       "      <th>sbp</th>\n",
       "      <th>dbp</th>\n",
       "    </tr>\n",
       "  </thead>\n",
       "  <tbody>\n",
       "    <tr>\n",
       "      <th>0</th>\n",
       "      <td>19850525</td>\n",
       "      <td>24462634</td>\n",
       "      <td>59616328</td>\n",
       "      <td>97.0</td>\n",
       "      <td>73.0</td>\n",
       "      <td>22.0</td>\n",
       "      <td>97.0</td>\n",
       "      <td>107.0</td>\n",
       "      <td>47.0</td>\n",
       "    </tr>\n",
       "  </tbody>\n",
       "</table>\n",
       "</div>"
      ],
      "text/plain": [
       "   patient_id  visit_id  study_id  temperature  heartrate  resprate  o2sat  \\\n",
       "0    19850525  24462634  59616328         97.0       73.0      22.0   97.0   \n",
       "\n",
       "     sbp   dbp  \n",
       "0  107.0  47.0  "
      ]
     },
     "execution_count": 28,
     "metadata": {},
     "output_type": "execute_result"
    }
   ],
   "source": [
    "input_df.head(1)"
   ]
  },
  {
   "cell_type": "code",
   "execution_count": 29,
   "id": "525970fa-1c4c-4709-b482-19c8dbccbc78",
   "metadata": {},
   "outputs": [
    {
     "data": {
      "text/html": [
       "<div>\n",
       "<style scoped>\n",
       "    .dataframe tbody tr th:only-of-type {\n",
       "        vertical-align: middle;\n",
       "    }\n",
       "\n",
       "    .dataframe tbody tr th {\n",
       "        vertical-align: top;\n",
       "    }\n",
       "\n",
       "    .dataframe thead th {\n",
       "        text-align: right;\n",
       "    }\n",
       "</style>\n",
       "<table border=\"1\" class=\"dataframe\">\n",
       "  <thead>\n",
       "    <tr style=\"text-align: right;\">\n",
       "      <th></th>\n",
       "      <th>atelectasis</th>\n",
       "      <th>cardiomegaly</th>\n",
       "      <th>edema</th>\n",
       "      <th>lung_opacity</th>\n",
       "      <th>pleural_effusion</th>\n",
       "      <th>pneumonia</th>\n",
       "    </tr>\n",
       "  </thead>\n",
       "  <tbody>\n",
       "    <tr>\n",
       "      <th>0</th>\n",
       "      <td>0</td>\n",
       "      <td>1</td>\n",
       "      <td>0</td>\n",
       "      <td>0</td>\n",
       "      <td>0</td>\n",
       "      <td>0</td>\n",
       "    </tr>\n",
       "  </tbody>\n",
       "</table>\n",
       "</div>"
      ],
      "text/plain": [
       "   atelectasis  cardiomegaly  edema  lung_opacity  pleural_effusion  pneumonia\n",
       "0            0             1      0             0                 0          0"
      ]
     },
     "execution_count": 29,
     "metadata": {},
     "output_type": "execute_result"
    }
   ],
   "source": [
    "output_df.head(1)"
   ]
  },
  {
   "cell_type": "code",
   "execution_count": 32,
   "id": "ffa86293-244b-42f3-8c2a-3ccd775e9b3a",
   "metadata": {},
   "outputs": [],
   "source": [
    "[input_df, output_df] = get_tabular_df(root + \"train_set__chexpert.json\")"
   ]
  },
  {
   "cell_type": "code",
   "execution_count": 33,
   "id": "09336c54-7a5c-4a06-a2a0-d51b21d07778",
   "metadata": {},
   "outputs": [
    {
     "data": {
      "text/plain": [
       "atelectasis         1451\n",
       "cardiomegaly        1134\n",
       "edema                927\n",
       "lung_opacity        2190\n",
       "pleural_effusion    1380\n",
       "pneumonia            735\n",
       "dtype: int64"
      ]
     },
     "execution_count": 33,
     "metadata": {},
     "output_type": "execute_result"
    }
   ],
   "source": [
    "output_df.sum()"
   ]
  },
  {
   "cell_type": "code",
   "execution_count": 34,
   "id": "3476101a-ab83-4f1c-bfe9-d64f58edcce6",
   "metadata": {},
   "outputs": [
    {
     "data": {
      "text/plain": [
       "11272"
      ]
     },
     "execution_count": 34,
     "metadata": {},
     "output_type": "execute_result"
    }
   ],
   "source": [
    "len(output_df)"
   ]
  },
  {
   "cell_type": "code",
   "execution_count": 35,
   "id": "f1d363d2-c3ce-4483-a163-0477958f4307",
   "metadata": {},
   "outputs": [
    {
     "data": {
      "text/plain": [
       "atelectasis         0.128726\n",
       "cardiomegaly        0.100603\n",
       "edema               0.082239\n",
       "lung_opacity        0.194287\n",
       "pleural_effusion    0.122427\n",
       "pneumonia           0.065206\n",
       "dtype: float64"
      ]
     },
     "execution_count": 35,
     "metadata": {},
     "output_type": "execute_result"
    }
   ],
   "source": [
    "output_df.sum()/len(output_df)"
   ]
  },
  {
   "cell_type": "code",
   "execution_count": null,
   "id": "b04cc4d1-4897-482f-823a-649fc3198896",
   "metadata": {},
   "outputs": [],
   "source": []
  }
 ],
 "metadata": {
  "kernelspec": {
   "display_name": "Python 3 (ipykernel)",
   "language": "python",
   "name": "python3"
  },
  "language_info": {
   "codemirror_mode": {
    "name": "ipython",
    "version": 3
   },
   "file_extension": ".py",
   "mimetype": "text/x-python",
   "name": "python",
   "nbconvert_exporter": "python",
   "pygments_lexer": "ipython3",
   "version": "3.10.12"
  }
 },
 "nbformat": 4,
 "nbformat_minor": 5
}
