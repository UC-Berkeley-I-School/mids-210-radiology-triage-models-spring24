{
 "cells": [
  {
   "cell_type": "code",
   "execution_count": 1,
   "id": "78c53a66-728f-4586-be9c-eb72f32d49eb",
   "metadata": {},
   "outputs": [],
   "source": [
    "import json\n",
    "\n",
    "import numpy as np\n",
    "import pandas as pd\n",
    "import torch\n",
    "from torch.utils.data import DataLoader, Dataset, TensorDataset\n",
    "from tensordict import TensorDict"
   ]
  },
  {
   "cell_type": "code",
   "execution_count": 13,
   "id": "1ad44078-6649-433c-89f0-1e83f250a2f2",
   "metadata": {},
   "outputs": [],
   "source": [
    "with open(\n",
    "    \"../data/s3/mimic_iv__multiclass_multioutput__json_files/sample__test_set__chexpert.json\"\n",
    ") as f:\n",
    "    data = json.load(f)\n",
    "    np.asarray(data)"
   ]
  },
  {
   "cell_type": "code",
   "execution_count": 3,
   "id": "88912b7a-7436-4c1e-ba27-c63c6b028601",
   "metadata": {},
   "outputs": [],
   "source": [
    "input_cols = [\n",
    "    \"patient_id\",\n",
    "    \"visit_id\",\n",
    "    \"study_id\",\n",
    "    \"temperature\",\n",
    "    \"heartrate\",\n",
    "    \"resprate\",\n",
    "    \"o2sat\",\n",
    "    \"sbp\",\n",
    "    \"dbp\",\n",
    "]\n",
    "output_cols = [\n",
    "    \"atelectasis\",\n",
    "    \"cardiomegaly\",\n",
    "    \"edema\",\n",
    "    \"lung_opacity\",\n",
    "    \"pleural_effusion\",\n",
    "    \"pneumonia\",\n",
    "]\n",
    "input_df = pd.DataFrame(\n",
    "    data=data,\n",
    "    columns=input_cols,\n",
    ")\n",
    "output_df = pd.DataFrame(data=data, columns=output_cols)\n",
    "input_df = input_df.astype(\n",
    "    {\n",
    "        \"patient_id\": int,\n",
    "        \"study_id\": int,\n",
    "    }\n",
    ")\n",
    "output_df = output_df.astype(\n",
    "    {\n",
    "        \"atelectasis\": int,\n",
    "        \"cardiomegaly\": int,\n",
    "        \"edema\": int,\n",
    "        \"lung_opacity\": int,\n",
    "        \"pleural_effusion\": int,\n",
    "        \"pneumonia\": int,\n",
    "    }\n",
    ")"
   ]
  },
  {
   "cell_type": "code",
   "execution_count": 4,
   "id": "aebe692b-1095-4093-b1ad-bb370d8d9eb6",
   "metadata": {},
   "outputs": [],
   "source": [
    "def scale_min_max(df, col_name):\n",
    "    xmin = df[col_name].min()\n",
    "    xmax = df[col_name].max()\n",
    "    df[col_name] = (df[col_name] - xmin) / (xmax - xmin)\n",
    "    return df"
   ]
  },
  {
   "cell_type": "code",
   "execution_count": 5,
   "id": "db296fb9-7ddf-4370-88e9-7f690ad1c259",
   "metadata": {},
   "outputs": [],
   "source": [
    "input_df = scale_min_max(input_df, \"temperature\")\n",
    "input_df = scale_min_max(input_df, \"heartrate\")\n",
    "input_df = scale_min_max(input_df, \"resprate\")\n",
    "input_df = scale_min_max(input_df, \"sbp\")\n",
    "input_df = scale_min_max(input_df, \"dbp\")\n",
    "input_df[\"o2sat\"] = input_df[\"o2sat\"] * 0.01"
   ]
  },
  {
   "cell_type": "code",
   "execution_count": 6,
   "id": "b8e2c867-aea7-4373-bf23-9e1e917f7297",
   "metadata": {},
   "outputs": [],
   "source": [
    "input_tensor = torch.tensor(input_df.values)"
   ]
  },
  {
   "cell_type": "code",
   "execution_count": 7,
   "id": "b32f1f80-4ebf-4040-b294-64d6e7d24f8c",
   "metadata": {},
   "outputs": [],
   "source": [
    "output_tensor = torch.tensor(output_df.values)"
   ]
  },
  {
   "cell_type": "code",
   "execution_count": 8,
   "id": "371d0962-8eee-424a-b57a-2711accd0dcb",
   "metadata": {},
   "outputs": [],
   "source": [
    "test = TensorDataset(input_tensor, output_tensor)"
   ]
  },
  {
   "cell_type": "code",
   "execution_count": 9,
   "id": "0aad285a-6f2a-4e9b-88f0-daeef2bafc06",
   "metadata": {},
   "outputs": [
    {
     "data": {
      "text/plain": [
       "tensor([1, 0, 0, 0, 0, 1])"
      ]
     },
     "execution_count": 9,
     "metadata": {},
     "output_type": "execute_result"
    }
   ],
   "source": [
    "test[0][1]"
   ]
  },
  {
   "cell_type": "code",
   "execution_count": 10,
   "id": "52e9efee-74d5-4fa2-9fc7-68f85f1b4c27",
   "metadata": {},
   "outputs": [
    {
     "data": {
      "text/html": [
       "<div>\n",
       "<style scoped>\n",
       "    .dataframe tbody tr th:only-of-type {\n",
       "        vertical-align: middle;\n",
       "    }\n",
       "\n",
       "    .dataframe tbody tr th {\n",
       "        vertical-align: top;\n",
       "    }\n",
       "\n",
       "    .dataframe thead th {\n",
       "        text-align: right;\n",
       "    }\n",
       "</style>\n",
       "<table border=\"1\" class=\"dataframe\">\n",
       "  <thead>\n",
       "    <tr style=\"text-align: right;\">\n",
       "      <th></th>\n",
       "      <th>atelectasis</th>\n",
       "      <th>cardiomegaly</th>\n",
       "      <th>edema</th>\n",
       "      <th>lung_opacity</th>\n",
       "      <th>pleural_effusion</th>\n",
       "      <th>pneumonia</th>\n",
       "    </tr>\n",
       "  </thead>\n",
       "  <tbody>\n",
       "    <tr>\n",
       "      <th>2561</th>\n",
       "      <td>1</td>\n",
       "      <td>0</td>\n",
       "      <td>0</td>\n",
       "      <td>0</td>\n",
       "      <td>0</td>\n",
       "      <td>1</td>\n",
       "    </tr>\n",
       "  </tbody>\n",
       "</table>\n",
       "</div>"
      ],
      "text/plain": [
       "      atelectasis  cardiomegaly  edema  lung_opacity  pleural_effusion  \\\n",
       "2561            1             0      0             0                 0   \n",
       "\n",
       "      pneumonia  \n",
       "2561          1  "
      ]
     },
     "execution_count": 10,
     "metadata": {},
     "output_type": "execute_result"
    }
   ],
   "source": [
    "output_df.head(1)"
   ]
  },
  {
   "cell_type": "code",
   "execution_count": 11,
   "id": "61f52864-6ccb-443d-9b19-6b69f03b11ff",
   "metadata": {},
   "outputs": [
    {
     "data": {
      "text/plain": [
       "tensor([1.0595e+07, 2.4341e+07, 5.1622e+07, 5.3896e-01, 3.5433e-01, 2.0000e-01,\n",
       "        9.9000e-01, 8.5279e-01, 4.8485e-01], dtype=torch.float64)"
      ]
     },
     "execution_count": 11,
     "metadata": {},
     "output_type": "execute_result"
    }
   ],
   "source": [
    "test[0][0]"
   ]
  },
  {
   "cell_type": "code",
   "execution_count": 12,
   "id": "2f12bff7-5724-488c-b8d5-6c74ddd51b47",
   "metadata": {},
   "outputs": [
    {
     "data": {
      "text/html": [
       "<div>\n",
       "<style scoped>\n",
       "    .dataframe tbody tr th:only-of-type {\n",
       "        vertical-align: middle;\n",
       "    }\n",
       "\n",
       "    .dataframe tbody tr th {\n",
       "        vertical-align: top;\n",
       "    }\n",
       "\n",
       "    .dataframe thead th {\n",
       "        text-align: right;\n",
       "    }\n",
       "</style>\n",
       "<table border=\"1\" class=\"dataframe\">\n",
       "  <thead>\n",
       "    <tr style=\"text-align: right;\">\n",
       "      <th></th>\n",
       "      <th>patient_id</th>\n",
       "      <th>visit_id</th>\n",
       "      <th>study_id</th>\n",
       "      <th>temperature</th>\n",
       "      <th>heartrate</th>\n",
       "      <th>resprate</th>\n",
       "      <th>o2sat</th>\n",
       "      <th>sbp</th>\n",
       "      <th>dbp</th>\n",
       "    </tr>\n",
       "  </thead>\n",
       "  <tbody>\n",
       "    <tr>\n",
       "      <th>2561</th>\n",
       "      <td>10594962</td>\n",
       "      <td>24340966</td>\n",
       "      <td>51621916</td>\n",
       "      <td>0.538961</td>\n",
       "      <td>0.354331</td>\n",
       "      <td>0.2</td>\n",
       "      <td>0.99</td>\n",
       "      <td>0.852792</td>\n",
       "      <td>0.484848</td>\n",
       "    </tr>\n",
       "  </tbody>\n",
       "</table>\n",
       "</div>"
      ],
      "text/plain": [
       "      patient_id  visit_id  study_id  temperature  heartrate  resprate  o2sat  \\\n",
       "2561    10594962  24340966  51621916     0.538961   0.354331       0.2   0.99   \n",
       "\n",
       "           sbp       dbp  \n",
       "2561  0.852792  0.484848  "
      ]
     },
     "execution_count": 12,
     "metadata": {},
     "output_type": "execute_result"
    }
   ],
   "source": [
    "input_df.head(1)"
   ]
  },
  {
   "cell_type": "code",
   "execution_count": 14,
   "id": "febc6ffa-d95d-481d-b335-f0c3cb71e466",
   "metadata": {},
   "outputs": [],
   "source": [
    "def get_tabular_df(path):\n",
    "    \"\"\"\n",
    "    Generates the tabular dataframes\n",
    "    \"\"\"\n",
    "    with open(path) as f:\n",
    "        data = json.load(f)\n",
    "    index_cols = [\"patient_id\", \"visit_id\", \"study_id\"]\n",
    "    input_cols = [\n",
    "        \"patient_id\",\n",
    "        \"visit_id\",\n",
    "        \"study_id\",\n",
    "        \"temperature\",\n",
    "        \"heartrate\",\n",
    "        \"resprate\",\n",
    "        \"o2sat\",\n",
    "        \"sbp\",\n",
    "        \"dbp\",\n",
    "    ]\n",
    "    output_cols = [\n",
    "        \"atelectasis\",\n",
    "        \"cardiomegaly\",\n",
    "        \"edema\",\n",
    "        \"lung_opacity\",\n",
    "        \"pleural_effusion\",\n",
    "        \"pneumonia\",\n",
    "    ]\n",
    "    input_df = pd.DataFrame(\n",
    "        data=data,\n",
    "        columns=input_cols,\n",
    "    )\n",
    "    output_df = pd.DataFrame(data=data, columns=output_cols)\n",
    "    input_df = input_df.astype(\n",
    "        {\n",
    "            \"patient_id\": int,\n",
    "            \"study_id\": int,\n",
    "        }\n",
    "    )\n",
    "    output_df = output_df.astype(\n",
    "        {\n",
    "            \"atelectasis\": int,\n",
    "            \"cardiomegaly\": int,\n",
    "            \"edema\": int,\n",
    "            \"lung_opacity\": int,\n",
    "            \"pleural_effusion\": int,\n",
    "            \"pneumonia\": int,\n",
    "        }\n",
    "    )\n",
    "    return [input_df, output_df]"
   ]
  },
  {
   "cell_type": "code",
   "execution_count": 45,
   "id": "fba71247-9b66-485d-9ba1-e7260c6fc7d1",
   "metadata": {},
   "outputs": [],
   "source": [
    "def generate_tabular(path, name, all_inputs):\n",
    "    \"\"\"\n",
    "    Generates the tabular tensor files for loading.\n",
    "    \"\"\"\n",
    "    with open(path) as f:\n",
    "        data = json.load(f)\n",
    "    input_cols = [\n",
    "        \"patient_id\",\n",
    "        \"visit_id\",\n",
    "        \"study_id\",\n",
    "        \"temperature\",\n",
    "        \"heartrate\",\n",
    "        \"resprate\",\n",
    "        \"o2sat\",\n",
    "        \"sbp\",\n",
    "        \"dbp\",\n",
    "        \"atelectasis\",\n",
    "        \"cardiomegaly\",\n",
    "        \"edema\",\n",
    "        \"lung_opacity\",\n",
    "        \"pleural_effusion\",\n",
    "        \"pneumonia\",\n",
    "    ]\n",
    "    input_df = pd.DataFrame(\n",
    "        data=data,\n",
    "        columns=input_cols,\n",
    "    )\n",
    "    input_df = input_df.astype(\n",
    "        {\n",
    "            \"patient_id\": int,\n",
    "            \"study_id\": int,\n",
    "            \"atelectasis\": int,\n",
    "            \"cardiomegaly\": int,\n",
    "            \"edema\": int,\n",
    "            \"lung_opacity\": int,\n",
    "            \"pleural_effusion\": int,\n",
    "            \"pneumonia\": int,\n",
    "        }\n",
    "    )\n",
    "\n",
    "    def scale_min_max(df, col_name):\n",
    "        xmin = all_inputs[col_name].min()\n",
    "        xmax = all_inputs[col_name].max()\n",
    "        df[col_name] = (df[col_name] - xmin) / (xmax - xmin)\n",
    "        return df\n",
    "\n",
    "    # normalize\n",
    "    input_df = scale_min_max(input_df, \"temperature\")\n",
    "    input_df = scale_min_max(input_df, \"heartrate\")\n",
    "    input_df = scale_min_max(input_df, \"resprate\")\n",
    "    input_df = scale_min_max(input_df, \"sbp\")\n",
    "    input_df = scale_min_max(input_df, \"dbp\")\n",
    "    input_df[\"o2sat\"] = input_df[\"o2sat\"] * 0.01\n",
    "\n",
    "    input_df.to_csv(\"../data/s3/\" + name, index=False)\n",
    "    print(\"generated \" + name)"
   ]
  },
  {
   "cell_type": "code",
   "execution_count": 47,
   "id": "b7cc6528-16df-4ee5-87d4-e0da34c0bceb",
   "metadata": {},
   "outputs": [
    {
     "name": "stdout",
     "output_type": "stream",
     "text": [
      "generated tabular_test.csv\n",
      "generated tabular_train.csv\n",
      "generated tabular_valid.csv\n"
     ]
    }
   ],
   "source": [
    "root = \"../data/s3/mimic_iv__multiclass_multioutput__json_files/\"\n",
    "paths = [\n",
    "    [\"tabular_test.csv\", \"test_set__chexpert.json\"],\n",
    "    [\"tabular_train.csv\", \"train_set__chexpert.json\"],\n",
    "    [\"tabular_valid.csv\", \"validation_set__chexpert.json\"],\n",
    "]\n",
    "inputs = []\n",
    "outputs = []\n",
    "for [name, path] in paths:\n",
    "    [input_df, output_df] = get_tabular_df(root + path)\n",
    "    inputs.append(input_df)\n",
    "\n",
    "all_inputs = pd.concat(inputs, axis=0)\n",
    "\n",
    "for [name, path] in paths:\n",
    "    generate_tabular(root + path, name, all_inputs)"
   ]
  },
  {
   "cell_type": "code",
   "execution_count": 24,
   "id": "761fc015-077e-4a74-b064-96d252859cd8",
   "metadata": {},
   "outputs": [
    {
     "data": {
      "text/plain": [
       "array(['patient_id', 'visit_id', 'study_id', 'temperature', 'heartrate',\n",
       "       'resprate', 'o2sat', 'sbp', 'dbp'], dtype=object)"
      ]
     },
     "execution_count": 24,
     "metadata": {},
     "output_type": "execute_result"
    }
   ],
   "source": [
    "np.array(input_df.columns)"
   ]
  },
  {
   "cell_type": "code",
   "execution_count": 25,
   "id": "f5a9febc-c400-4669-ad40-8835a2385f34",
   "metadata": {},
   "outputs": [
    {
     "data": {
      "text/plain": [
       "array(['atelectasis', 'cardiomegaly', 'edema', 'lung_opacity',\n",
       "       'pleural_effusion', 'pneumonia'], dtype=object)"
      ]
     },
     "execution_count": 25,
     "metadata": {},
     "output_type": "execute_result"
    }
   ],
   "source": [
    "np.array(output_df.columns)"
   ]
  },
  {
   "cell_type": "code",
   "execution_count": 34,
   "id": "f1e18613-5f1d-4d7e-9ed0-4bd850dd06d9",
   "metadata": {},
   "outputs": [
    {
     "data": {
      "text/plain": [
       "array(['atelectasis', ' cardiomegaly', ' edema', ' lung_opacity',\n",
       "       ' pleural_effusion', ' pneumonia'], dtype='<U17')"
      ]
     },
     "execution_count": 34,
     "metadata": {},
     "output_type": "execute_result"
    }
   ],
   "source": [
    "np.loadtxt(\"../data/s3/tensors/tabular_label_names.txt\", delimiter=\",\", dtype=\"str\")"
   ]
  },
  {
   "cell_type": "code",
   "execution_count": 2,
   "id": "92e079f8-be56-47fc-9823-400e9cbf3e2d",
   "metadata": {},
   "outputs": [],
   "source": [
    "from types import SimpleNamespace\n",
    "\n",
    "import mimic"
   ]
  },
  {
   "cell_type": "code",
   "execution_count": 3,
   "id": "e2e62732-d995-402d-9ad4-b3a7c7d7b802",
   "metadata": {},
   "outputs": [],
   "source": [
    "config_test = '{\"data_mode\": \"tabular_numpy_train\", \"batch_size\": 32}'\n",
    "x = json.loads(config_test, object_hook=lambda d: SimpleNamespace(**d))\n",
    "dataloaders = mimic.MimicDataLoader(x)"
   ]
  },
  {
   "cell_type": "code",
   "execution_count": 5,
   "id": "15701924-1e6d-46b8-bbc2-e4f28b944bc4",
   "metadata": {},
   "outputs": [
    {
     "data": {
      "text/plain": [
       "{'features': tensor([[6.8757e-01, 7.3171e-01, 1.0106e-01, 9.8000e-01, 2.1016e-01, 7.6193e-04],\n",
       "         [6.5998e-01, 3.2927e-01, 9.0426e-02, 9.5000e-01, 1.9615e-01, 9.8917e-04],\n",
       "         [6.6402e-01, 5.1220e-01, 2.0745e-01, 9.8000e-01, 1.9965e-01, 1.0293e-03],\n",
       "         [6.6604e-01, 6.0976e-01, 9.0426e-02, 1.0000e+00, 1.8739e-01, 9.3570e-04],\n",
       "         [6.6200e-01, 3.4756e-01, 7.9787e-02, 9.9000e-01, 1.9440e-01, 6.2826e-04],\n",
       "         [6.5595e-01, 3.6585e-01, 7.9787e-02, 1.0000e+00, 2.6445e-01, 1.0827e-03],\n",
       "         [6.5864e-01, 4.3293e-01, 7.9787e-02, 9.8000e-01, 1.9440e-01, 1.0159e-03],\n",
       "         [6.6133e-01, 5.2439e-01, 7.9787e-02, 1.0000e+00, 1.9615e-01, 9.3570e-04],\n",
       "         [6.5797e-01, 3.4146e-01, 9.0426e-02, 9.9000e-01, 2.6270e-01, 1.0159e-03],\n",
       "         [6.7142e-01, 4.5732e-01, 7.9787e-02, 9.9000e-01, 1.5937e-01, 8.1540e-04],\n",
       "         [6.6671e-01, 5.0610e-01, 1.0106e-01, 1.0000e+00, 2.3468e-01, 1.1228e-03],\n",
       "         [6.6469e-01, 3.2927e-01, 1.0106e-01, 1.0000e+00, 2.3993e-01, 1.3635e-03],\n",
       "         [6.5527e-01, 3.6585e-01, 6.9149e-02, 1.0000e+00, 2.2417e-01, 1.3501e-03],\n",
       "         [6.5729e-01, 5.1220e-01, 7.9787e-02, 9.7000e-01, 4.0280e-01, 1.1763e-03],\n",
       "         [6.5662e-01, 5.1220e-01, 9.0426e-02, 1.0000e+00, 1.8039e-01, 8.6887e-04],\n",
       "         [6.5460e-01, 2.6220e-01, 7.9787e-02, 9.9000e-01, 2.3818e-01, 9.8917e-04],\n",
       "         [6.5460e-01, 5.0000e-01, 1.0106e-01, 9.8000e-01, 3.0648e-01, 1.2030e-03],\n",
       "         [6.6133e-01, 2.6829e-01, 9.0426e-02, 1.0000e+00, 1.8914e-01, 6.5499e-04],\n",
       "         [6.4249e-01, 3.5366e-01, 1.0106e-01, 9.7000e-01, 2.7846e-01, 1.2699e-03],\n",
       "         [6.5191e-01, 2.1951e-01, 7.9787e-02, 1.0000e+00, 2.1191e-01, 1.2966e-03],\n",
       "         [6.5527e-01, 3.2927e-01, 9.0426e-02, 9.7000e-01, 2.9072e-01, 1.0961e-03],\n",
       "         [6.5864e-01, 4.0244e-01, 9.0426e-02, 1.0000e+00, 2.0841e-01, 8.8224e-04],\n",
       "         [6.6940e-01, 4.3293e-01, 7.9787e-02, 9.2000e-01, 2.9947e-01, 9.2234e-04],\n",
       "         [6.5326e-01, 3.9024e-01, 7.9787e-02, 1.0000e+00, 1.8914e-01, 9.7581e-04],\n",
       "         [6.5931e-01, 3.5366e-01, 9.0426e-02, 9.9000e-01, 2.2067e-01, 1.1362e-03],\n",
       "         [6.5393e-01, 3.2927e-01, 9.0426e-02, 9.9000e-01, 1.3835e-01, 8.4213e-04],\n",
       "         [6.5527e-01, 4.2683e-01, 9.0426e-02, 9.9000e-01, 2.7496e-01, 1.2030e-03],\n",
       "         [6.9228e-01, 7.5000e-01, 7.9787e-02, 9.9000e-01, 1.6637e-01, 6.5499e-04],\n",
       "         [6.6402e-01, 5.2439e-01, 8.5106e-02, 9.9000e-01, 1.7513e-01, 1.0426e-03],\n",
       "         [6.6940e-01, 5.3049e-01, 1.4362e-01, 1.0000e+00, 2.1716e-01, 1.0293e-03],\n",
       "         [6.5864e-01, 4.3902e-01, 7.9787e-02, 9.3000e-01, 2.1366e-01, 7.0846e-04],\n",
       "         [6.6267e-01, 4.0244e-01, 1.1170e-01, 9.8000e-01, 2.0315e-01, 1.1496e-03]]),\n",
       " 'atelectasis': tensor([0., 0., 0., 0., 0., 0., 0., 0., 0., 0., 0., 0., 0., 0., 0., 0., 0., 0.,\n",
       "         0., 0., 0., 1., 0., 0., 0., 0., 1., 0., 0., 1., 0., 0.]),\n",
       " 'cardiomegaly': tensor([0., 0., 0., 0., 0., 1., 0., 0., 0., 0., 0., 0., 0., 0., 0., 0., 0., 0.,\n",
       "         0., 0., 1., 0., 1., 0., 0., 0., 0., 0., 0., 0., 1., 0.]),\n",
       " 'edema': tensor([0., 0., 0., 0., 0., 0., 0., 0., 0., 0., 0., 0., 0., 1., 0., 0., 0., 0.,\n",
       "         0., 0., 0., 0., 1., 0., 0., 1., 0., 0., 0., 0., 0., 1.]),\n",
       " 'lung_opacity': tensor([0., 1., 1., 0., 0., 0., 0., 1., 0., 0., 1., 0., 0., 0., 0., 0., 0., 0.,\n",
       "         1., 0., 1., 1., 1., 0., 0., 0., 0., 0., 0., 1., 0., 0.]),\n",
       " 'pleural_effusion': tensor([0., 0., 0., 0., 0., 0., 0., 0., 0., 0., 0., 1., 0., 1., 1., 0., 0., 1.,\n",
       "         0., 0., 0., 0., 1., 1., 0., 0., 0., 0., 0., 0., 0., 0.]),\n",
       " 'pneumonia': tensor([0., 0., 0., 0., 1., 0., 0., 0., 0., 0., 0., 0., 0., 0., 0., 0., 0., 0.,\n",
       "         0., 0., 0., 0., 0., 0., 0., 0., 0., 0., 0., 1., 0., 0.])}"
      ]
     },
     "execution_count": 5,
     "metadata": {},
     "output_type": "execute_result"
    }
   ],
   "source": [
    "next(iter(dataloaders.train_loader))"
   ]
  }
 ],
 "metadata": {
  "kernelspec": {
   "display_name": "Python 3 (ipykernel)",
   "language": "python",
   "name": "python3"
  },
  "language_info": {
   "codemirror_mode": {
    "name": "ipython",
    "version": 3
   },
   "file_extension": ".py",
   "mimetype": "text/x-python",
   "name": "python",
   "nbconvert_exporter": "python",
   "pygments_lexer": "ipython3",
   "version": "3.10.12"
  }
 },
 "nbformat": 4,
 "nbformat_minor": 5
}
