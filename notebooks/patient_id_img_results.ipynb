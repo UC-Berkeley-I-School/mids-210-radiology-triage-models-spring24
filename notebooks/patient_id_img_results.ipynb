{
 "cells": [
  {
   "cell_type": "code",
   "execution_count": 1,
   "id": "5bd25803-7756-40d9-ba0a-77fcb861d5b4",
   "metadata": {},
   "outputs": [
    {
     "name": "stdout",
     "output_type": "stream",
     "text": [
      "Loading data files... C:/Users/Carolyn/Documents/MIDS/210 Capstone/fusion_data\\test_set__chexpert__4_findings__single_label__unbalanced.json test\n",
      "Loading data files... C:/Users/Carolyn/Documents/MIDS/210 Capstone/fusion_data\\train_set__chexpert__4_findings__single_label__balanced.json train\n",
      "Loading data files... C:/Users/Carolyn/Documents/MIDS/210 Capstone/fusion_data\\validation_set__chexpert__4_findings__single_label__unbalanced.json validate\n",
      "Total Cols\n",
      " Index(['patient_id', 'visit_id', 'study_id', 'temperature', 'heartrate',\n",
      "       'resprate', 'o2sat', 'sbp', 'dbp', 'pain', 'acuity',\n",
      "       'positive_label_total', 'finding_names', 'radiology_note',\n",
      "       'discharge_note', 'chief_complaint',\n",
      "       'major_surgical_or_invasive_procedure', 'history_of_present_illness',\n",
      "       'past_medical_history', 'family_history', 'atelectasis', 'cardiomegaly',\n",
      "       'lung_opacity', 'pleural_effusion', 'dataset_type'],\n",
      "      dtype='object')\n",
      "<class 'pandas.core.frame.DataFrame'>\n",
      "RangeIndex: 16877 entries, 0 to 16876\n",
      "Data columns (total 40 columns):\n",
      " #   Column                                      Non-Null Count  Dtype  \n",
      "---  ------                                      --------------  -----  \n",
      " 0   patient_id                                  16877 non-null  int64  \n",
      " 1   study_id                                    16877 non-null  int64  \n",
      " 2   atelectasis                                 16877 non-null  float64\n",
      " 3   cardiomegaly                                16877 non-null  float64\n",
      " 4   edema                                       16877 non-null  float64\n",
      " 5   lung_opacity                                16877 non-null  float64\n",
      " 6   pleural_effusion                            16877 non-null  float64\n",
      " 7   pneumonia                                   16877 non-null  float64\n",
      " 8   prev_data_type                              16877 non-null  object \n",
      " 9   prev_is_sample                              16877 non-null  bool   \n",
      " 10  dicom_id                                    16877 non-null  object \n",
      " 11  PerformedProcedureStepDescription           16817 non-null  object \n",
      " 12  ViewPosition                                16877 non-null  object \n",
      " 13  Rows                                        16877 non-null  int64  \n",
      " 14  Columns                                     16877 non-null  int64  \n",
      " 15  StudyDate                                   16877 non-null  int64  \n",
      " 16  StudyTime                                   16877 non-null  float64\n",
      " 17  ProcedureCodeSequence_CodeMeaning           16877 non-null  object \n",
      " 18  ViewCodeSequence_CodeMeaning                16877 non-null  object \n",
      " 19  PatientOrientationCodeSequence_CodeMeaning  16520 non-null  object \n",
      " 20  jpg_filename                                16877 non-null  object \n",
      " 21  anomaly                                     16877 non-null  int64  \n",
      " 22  no_findings                                 16877 non-null  bool   \n",
      " 23  set                                         16877 non-null  int64  \n",
      " 24  train_6_unb_m                               16877 non-null  int64  \n",
      " 25  test_6_unb_m                                16877 non-null  int64  \n",
      " 26  val_6_unb_m                                 16877 non-null  int64  \n",
      " 27  train_6_bal_m                               16877 non-null  int64  \n",
      " 28  train_6_unb_s                               16877 non-null  int64  \n",
      " 29  test_6_unb_s                                16877 non-null  int64  \n",
      " 30  val_6_unb_s                                 16877 non-null  int64  \n",
      " 31  train_6_bal_s                               16877 non-null  int64  \n",
      " 32  train_4_unb_m                               16877 non-null  int64  \n",
      " 33  test_4_unb_m                                16877 non-null  int64  \n",
      " 34  val_4_unb_m                                 16877 non-null  int64  \n",
      " 35  train_4_bal_m                               16877 non-null  int64  \n",
      " 36  train_4_unb_s                               16877 non-null  int64  \n",
      " 37  test_4_unb_s                                16877 non-null  int64  \n",
      " 38  val_4_unb_s                                 16877 non-null  int64  \n",
      " 39  train_4_bal_s                               16877 non-null  int64  \n",
      "dtypes: bool(2), float64(7), int64(23), object(8)\n",
      "memory usage: 4.9+ MB\n",
      "(2086, 27)\n",
      "(1924, 27)\n",
      "(1920, 27)\n",
      "Null values for image IDs in combined_train_df: 0\n",
      "Null values for image IDs in combined_train_df: 0\n",
      "Null values for image IDs in combined_train_df: 0\n",
      "   patient_id  temperature  heartrate  resprate  o2sat    sbp    dbp  pain  \\\n",
      "0    11388716         98.8      106.0      22.0   96.0   93.0   67.0     0   \n",
      "1    11539363         99.1       80.0      16.0   97.0  162.0   67.0     0   \n",
      "2    10833304         97.0       98.0      14.0  100.0  159.0   88.0     2   \n",
      "3    19849119         98.6       92.0      20.0   98.0  127.0   70.0     0   \n",
      "4    11749991        100.6      110.0      16.0   97.0  166.0  100.0     8   \n",
      "\n",
      "   acuity finding_names  \n",
      "0     2.0   atelectasis  \n",
      "1     3.0   atelectasis  \n",
      "2     2.0   atelectasis  \n",
      "3     2.0   atelectasis  \n",
      "4     2.0   atelectasis  \n",
      "   patient_id                    chief_complaint  \\\n",
      "0    11388716                                SOB   \n",
      "1    11539363                         Chest pain   \n",
      "2    10833304  Lip swelling, shortness of breath   \n",
      "3    19849119                          Confusion   \n",
      "4    11749991                N/V, Abdominal Pain   \n",
      "\n",
      "                          history_of_present_illness  \\\n",
      "0  ___ with history of DVT on warfarin, silent MI...   \n",
      "1  Mr ___ is a ___ yo M w/IDDM, HTN, HLD, has not...   \n",
      "2  This is a ___ F PMhx hypothyroidism, depressio...   \n",
      "3  ___ PMHx Hep C Cirrhosis, HTN, DM II presents ...   \n",
      "4  ___ with hx of COPD, CHF, esophageal ulcer, an...   \n",
      "\n",
      "                                past_medical_history  \\\n",
      "0  ONCOLOGIC HISTORY: \\n- Early ___: presented to...   \n",
      "1                         - IDDM  \\n - HTN  \\n - HLD   \n",
      "2  - HTN\\n- Hypothyroidism\\n- Urticaria, chronic ...   \n",
      "3  PMH: DMII, Cirrhosis, grade 1 esophageal varic...   \n",
      "4  - HTN\\n- CVA\\n- CHF\\n- Restles leg\\n- Fibromya...   \n",
      "\n",
      "                                      family_history finding_names  \n",
      "0  Mother had an MI in her ___.  Father had an MI...   atelectasis  \n",
      "1                                    Noncontributory   atelectasis  \n",
      "2  Estranged from family, no known history of mal...   atelectasis  \n",
      "3  Brothers x3 both with MI's. Father ___ arthrit...   atelectasis  \n",
      "4                                       Not obtained   atelectasis  \n",
      "   patient_id                                          dicom_id finding_names\n",
      "0    11388716  7d6ea06e-554c2ccb-4d9ecefe-eb5ca0e0-7049fa19.jpg   atelectasis\n",
      "1    11539363  b4b4f64f-ba5163c8-1b7ce58e-a0030af6-4d09dec1.jpg   atelectasis\n",
      "2    10833304  3b09e882-c5f0d93b-106c7c94-29b839e8-00e7a950.jpg   atelectasis\n",
      "3    19849119  3100385d-f9e0610a-e32f54df-3c17088b-4da3d491.jpg   atelectasis\n",
      "4    11749991  c83dc36c-6c58d087-0ef18130-dd3e8cbf-faa5e609.jpg   atelectasis\n"
     ]
    }
   ],
   "source": [
    "%run processing_data.ipynb"
   ]
  },
  {
   "cell_type": "code",
   "execution_count": 2,
   "id": "2223d12e-aa90-469c-a634-261fd47dbcd2",
   "metadata": {},
   "outputs": [],
   "source": [
    "import pandas as pd\n",
    "import numpy as np"
   ]
  },
  {
   "cell_type": "code",
   "execution_count": null,
   "id": "83c49bb7-749e-4046-ad52-e84d8f6761b3",
   "metadata": {},
   "outputs": [],
   "source": []
  },
  {
   "cell_type": "code",
   "execution_count": 8,
   "id": "39a76461-eeea-450c-be03-b1cf600a7be1",
   "metadata": {},
   "outputs": [],
   "source": [
    "image_preds_train = pd.read_csv(r\"C:\\Users\\Carolyn\\Downloads\\train_results.csv\")\n",
    "image_preds_val = pd.read_csv(r\"C:\\Users\\Carolyn\\Downloads\\validation_results.csv\")\n",
    "image_preds_test = pd.read_csv(r\"C:\\Users\\Carolyn\\Downloads\\test_results.csv\")\n",
    "\n",
    "#image_preds_train.head()"
   ]
  },
  {
   "cell_type": "code",
   "execution_count": 9,
   "id": "fb385656-e583-4106-a022-74a4842d918a",
   "metadata": {},
   "outputs": [
    {
     "data": {
      "text/plain": [
       "847"
      ]
     },
     "execution_count": 9,
     "metadata": {},
     "output_type": "execute_result"
    }
   ],
   "source": [
    "len(image_preds_val.img_id.unique())  "
   ]
  },
  {
   "cell_type": "code",
   "execution_count": 10,
   "id": "92b8e755-8d1d-485d-97be-fdd471825f42",
   "metadata": {},
   "outputs": [
    {
     "data": {
      "text/plain": [
       "860"
      ]
     },
     "execution_count": 10,
     "metadata": {},
     "output_type": "execute_result"
    }
   ],
   "source": [
    "len(image_preds_test.img_id.unique())"
   ]
  },
  {
   "cell_type": "code",
   "execution_count": 11,
   "id": "009ff1de-558e-45e2-a512-53d6ae9a1504",
   "metadata": {},
   "outputs": [
    {
     "data": {
      "text/plain": [
       "1074"
      ]
     },
     "execution_count": 11,
     "metadata": {},
     "output_type": "execute_result"
    }
   ],
   "source": [
    "sum(image_preds_val.duplicated())"
   ]
  },
  {
   "cell_type": "code",
   "execution_count": 12,
   "id": "26121cba-8875-4cde-964c-3c5059ab5146",
   "metadata": {},
   "outputs": [
    {
     "data": {
      "text/plain": [
       "1060"
      ]
     },
     "execution_count": 12,
     "metadata": {},
     "output_type": "execute_result"
    }
   ],
   "source": [
    "sum(image_preds_test.duplicated())"
   ]
  },
  {
   "cell_type": "code",
   "execution_count": 13,
   "id": "59ae42ca-7c49-4145-9be0-f40c98809dc5",
   "metadata": {},
   "outputs": [
    {
     "data": {
      "text/plain": [
       "0"
      ]
     },
     "execution_count": 13,
     "metadata": {},
     "output_type": "execute_result"
    }
   ],
   "source": [
    "sum(img_train_df.duplicated())"
   ]
  },
  {
   "cell_type": "code",
   "execution_count": 29,
   "id": "4d180d9d-aa02-47ba-b808-5d9de05fb203",
   "metadata": {},
   "outputs": [],
   "source": [
    "#rename img_id to dicom_id\n",
    "image_preds_train = image_preds_train.rename(columns={\"img_id\": \"dicom_id\"})\n",
    "image_preds_val = image_preds_val.rename(columns={\"img_id\": \"dicom_id\"})\n",
    "image_preds_test = image_preds_test.rename(columns={\"img_id\": \"dicom_id\"})\n",
    "#image_preds_train.head()"
   ]
  },
  {
   "cell_type": "code",
   "execution_count": 31,
   "id": "b454ab88-2367-4404-9535-befcafddf55d",
   "metadata": {},
   "outputs": [],
   "source": [
    "patient_id_train_preds = pd.merge(image_preds_train, img_train_df[['patient_id', 'dicom_id', 'finding_names']],on='dicom_id', how='left').drop_duplicates(subset=[\"patient_id\"])\n",
    "patient_id_val_preds = pd.merge(image_preds_val, img_val_df[['patient_id', 'dicom_id', 'finding_names']],on='dicom_id', how='left')\n",
    "patient_id_test_preds = pd.merge(image_preds_test, img_test_df[['patient_id', 'dicom_id', 'finding_names']],on='dicom_id', how='left')"
   ]
  },
  {
   "cell_type": "code",
   "execution_count": 32,
   "id": "9a806004-5aff-4fc6-9334-a01594ba9495",
   "metadata": {},
   "outputs": [],
   "source": [
    "#patient_id_train_preds.head() removing for privacy"
   ]
  },
  {
   "cell_type": "code",
   "execution_count": 33,
   "id": "bea00862-fae0-4949-8a31-3eb1b08b98e6",
   "metadata": {},
   "outputs": [
    {
     "name": "stdout",
     "output_type": "stream",
     "text": [
      "Null values for image IDs in train: 1\n",
      "Null values for image IDs in val: 0\n",
      "Null values for image IDs in test: 0\n"
     ]
    }
   ],
   "source": [
    "print(\"Null values for image IDs in train:\", sum(patient_id_train_preds.patient_id.isna()))\n",
    "print(\"Null values for image IDs in val:\", sum(patient_id_val_preds.patient_id.isna()))\n",
    "print(\"Null values for image IDs in test:\", sum(patient_id_test_preds.patient_id.isna()))"
   ]
  },
  {
   "cell_type": "code",
   "execution_count": 34,
   "id": "3674a32f-0754-4846-99c5-513c18d380e9",
   "metadata": {},
   "outputs": [],
   "source": [
    "patient_id_train_preds_nona = patient_id_train_preds.dropna().drop_duplicates(subset=[\"patient_id\"])"
   ]
  },
  {
   "cell_type": "code",
   "execution_count": 35,
   "id": "2c9e041c-41a8-45e9-a13c-9d7f4e76ad16",
   "metadata": {},
   "outputs": [
    {
     "data": {
      "text/plain": [
       "(1451, 8)"
      ]
     },
     "execution_count": 35,
     "metadata": {},
     "output_type": "execute_result"
    }
   ],
   "source": [
    "patient_id_train_preds_nona.shape"
   ]
  },
  {
   "cell_type": "code",
   "execution_count": 43,
   "id": "475a4116-8f0b-4928-bafc-36ba17912c90",
   "metadata": {},
   "outputs": [
    {
     "data": {
      "text/plain": [
       "(1924, 8)"
      ]
     },
     "execution_count": 43,
     "metadata": {},
     "output_type": "execute_result"
    }
   ],
   "source": [
    "patient_id_val_preds.shape"
   ]
  },
  {
   "cell_type": "code",
   "execution_count": 44,
   "id": "fbc4fbef-560f-4deb-bbbf-8a3593f2b240",
   "metadata": {},
   "outputs": [
    {
     "data": {
      "text/plain": [
       "(1920, 8)"
      ]
     },
     "execution_count": 44,
     "metadata": {},
     "output_type": "execute_result"
    }
   ],
   "source": [
    "patient_id_test_preds.shape"
   ]
  },
  {
   "cell_type": "code",
   "execution_count": 39,
   "id": "e66cc248-c1ad-4fcd-8111-e5f65afb4a31",
   "metadata": {},
   "outputs": [
    {
     "ename": "ValueError",
     "evalue": "operands could not be broadcast together with shapes (1924,) (854,) ",
     "output_type": "error",
     "traceback": [
      "\u001b[1;31m---------------------------------------------------------------------------\u001b[0m",
      "\u001b[1;31mValueError\u001b[0m                                Traceback (most recent call last)",
      "Cell \u001b[1;32mIn[39], line 8\u001b[0m\n\u001b[0;32m      1\u001b[0m \u001b[38;5;66;03m#EDA confirm patient IDs match for train, val, and test datasets\u001b[39;00m\n\u001b[0;32m      2\u001b[0m \n\u001b[0;32m      3\u001b[0m \u001b[38;5;66;03m#if img_train_df.patient_id.unique() == patient_id_train_preds.patient_id.unique():\u001b[39;00m\n\u001b[0;32m      4\u001b[0m \u001b[38;5;66;03m#    print(\"All training patient files match!\")\u001b[39;00m\n\u001b[0;32m      5\u001b[0m \u001b[38;5;66;03m#else:\u001b[39;00m\n\u001b[0;32m      6\u001b[0m \u001b[38;5;66;03m#    print(\"Warning! Files don't match!\")\u001b[39;00m\n\u001b[1;32m----> 8\u001b[0m \u001b[38;5;28;01mif\u001b[39;00m \u001b[43mimg_val_df\u001b[49m\u001b[38;5;241;43m.\u001b[39;49m\u001b[43mpatient_id\u001b[49m\u001b[38;5;241;43m.\u001b[39;49m\u001b[43munique\u001b[49m\u001b[43m(\u001b[49m\u001b[43m)\u001b[49m\u001b[43m \u001b[49m\u001b[38;5;241;43m==\u001b[39;49m\u001b[43m \u001b[49m\u001b[43mpatient_id_val_preds\u001b[49m\u001b[38;5;241;43m.\u001b[39;49m\u001b[43mpatient_id\u001b[49m\u001b[38;5;241;43m.\u001b[39;49m\u001b[43munique\u001b[49m\u001b[43m(\u001b[49m\u001b[43m)\u001b[49m:\n\u001b[0;32m      9\u001b[0m     \u001b[38;5;28mprint\u001b[39m(\u001b[38;5;124m\"\u001b[39m\u001b[38;5;124mAll validation patient files match!\u001b[39m\u001b[38;5;124m\"\u001b[39m)\n\u001b[0;32m     10\u001b[0m \u001b[38;5;28;01melse\u001b[39;00m:\n",
      "\u001b[1;31mValueError\u001b[0m: operands could not be broadcast together with shapes (1924,) (854,) "
     ]
    }
   ],
   "source": [
    "#EDA confirm patient IDs match for train, val, and test datasets\n",
    "\n",
    "#if img_train_df.patient_id.unique() == patient_id_train_preds.patient_id.unique():\n",
    "#    print(\"All training patient files match!\")\n",
    "#else:\n",
    "#    print(\"Warning! Files don't match!\")\n",
    "\n",
    "if img_val_df.patient_id.unique() == patient_id_val_preds.patient_id.unique():\n",
    "    print(\"All validation patient files match!\")\n",
    "else:\n",
    "    print(\"Warning! Files don't match!\")\n",
    "\n",
    "if img_test_df.patient_id.unique() == patient_id_test_preds.patient_id.unique():\n",
    "    print(\"All validation patient files match!\")\n",
    "else:\n",
    "    print(\"Warning! Files don't match!\")"
   ]
  },
  {
   "cell_type": "code",
   "execution_count": 40,
   "id": "106f311b-db27-4f25-bb79-bcecde54c70d",
   "metadata": {},
   "outputs": [
    {
     "name": "stdout",
     "output_type": "stream",
     "text": [
      "(2086, 3)\n",
      "(1924, 3)\n",
      "(1920, 3)\n"
     ]
    }
   ],
   "source": [
    "print(img_train_df.shape)\n",
    "print(img_val_df.shape)\n",
    "print(img_test_df.shape)"
   ]
  },
  {
   "cell_type": "code",
   "execution_count": 42,
   "id": "c0b171a1-76f2-4199-a382-56eafb50544e",
   "metadata": {},
   "outputs": [
    {
     "data": {
      "text/plain": [
       "854"
      ]
     },
     "execution_count": 42,
     "metadata": {},
     "output_type": "execute_result"
    }
   ],
   "source": [
    "len(patient_id_val_preds.dicom_id.unique())"
   ]
  },
  {
   "cell_type": "code",
   "execution_count": 16,
   "id": "c1e1d92a-856c-4050-80f7-c01dd603ab30",
   "metadata": {},
   "outputs": [
    {
     "data": {
      "text/plain": [
       "1451"
      ]
     },
     "execution_count": 16,
     "metadata": {},
     "output_type": "execute_result"
    }
   ],
   "source": [
    "len(patient_id_train_preds_nona.patient_id.unique())"
   ]
  },
  {
   "cell_type": "code",
   "execution_count": 21,
   "id": "bb9bdc9d-e48a-482f-8d92-30a688ee55c9",
   "metadata": {},
   "outputs": [],
   "source": [
    "#save output files\n",
    "patient_id_train_preds_nona.to_csv('cinthya_img_train_predictions.csv')\n",
    "patient_id_val_preds.to_csv('cinthya_img_val_predictions.csv')\n",
    "patient_id_test_preds.to_csv('cinthya_img_test_predictions.csv')"
   ]
  },
  {
   "cell_type": "code",
   "execution_count": null,
   "id": "6bb6c876-88ab-4e44-aaee-feef2a51b061",
   "metadata": {},
   "outputs": [],
   "source": []
  }
 ],
 "metadata": {
  "kernelspec": {
   "display_name": "Python (pytorch)",
   "language": "python",
   "name": "pytorch_env"
  },
  "language_info": {
   "codemirror_mode": {
    "name": "ipython",
    "version": 3
   },
   "file_extension": ".py",
   "mimetype": "text/x-python",
   "name": "python",
   "nbconvert_exporter": "python",
   "pygments_lexer": "ipython3",
   "version": "3.12.2"
  }
 },
 "nbformat": 4,
 "nbformat_minor": 5
}
