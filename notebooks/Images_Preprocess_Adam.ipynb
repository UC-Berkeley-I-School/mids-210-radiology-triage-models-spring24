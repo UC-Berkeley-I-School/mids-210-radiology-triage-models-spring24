{
 "cells": [
  {
   "cell_type": "markdown",
   "id": "9c20901a-9a1d-4858-b165-9bc15da7cdab",
   "metadata": {},
   "source": [
    "# **IMAGE DATA - SIZE REDUCTION & STANDARDIZATION**"
   ]
  },
  {
   "cell_type": "markdown",
   "id": "2d680cf8-0cd0-4d6e-839e-bf143af6d4d8",
   "metadata": {},
   "source": [
    "# 1. Installation & Packages Setup \n",
    "<div style=\"float:left; font-size:0.7em;\"><a href=\"#returnToTop\">Return to Top</a></div> <a id='setup'></a>"
   ]
  },
  {
   "cell_type": "code",
   "execution_count": 3,
   "id": "e64750af-0e5a-473d-befc-2994ab9a1946",
   "metadata": {},
   "outputs": [],
   "source": [
    "import pandas as pd\n",
    "import numpy as np\n",
    "import gzip\n",
    "import os\n",
    "import requests\n",
    "from urllib.parse import urljoin\n",
    "import subprocess\n",
    "\n",
    "import matplotlib.pyplot as plt\n",
    "import matplotlib.image as mpimg\n",
    "import seaborn as sns  # for nicer plots\n",
    "sns.set(style=\"darkgrid\")  # default style\n",
    "\n",
    "from copy import deepcopy\n",
    "import re\n",
    "import pprint\n",
    "pd.options.display.max_columns = 999\n",
    "\n",
    "from collections import Counter\n",
    "\n",
    "# Set pandas to display the entire content of each column\n",
    "pd.set_option('display.max_colwidth', None)\n",
    "\n",
    "import shutil\n",
    "from IPython.display import display, HTML\n",
    "from sklearn.ensemble import IsolationForest\n",
    "import cv2"
   ]
  },
  {
   "cell_type": "markdown",
   "id": "8593f51e-289c-46bd-8920-c1b1ddd52b95",
   "metadata": {},
   "source": [
    "# 2. Setup Constants & Functions\n",
    "<div style=\"float:left; font-size:0.7em;\"><a href=\"#returnToTop\">Return to Top</a></div> <a id='setup'></a>"
   ]
  },
  {
   "cell_type": "code",
   "execution_count": 4,
   "id": "58353912-21fa-48d9-a65c-4665ed518920",
   "metadata": {},
   "outputs": [],
   "source": [
    "# Directories and file paths\n",
    "local_base_dir  = '/tf/mount/0 Berkeley/0 Spring 2024/w210 Capstone/Project/mimic_data/mimic_images'\n",
    "processed_file  = '/Processed_Image_Data_Feb_28_2024.csv'\n",
    "processed_file_path = os.path.join(local_base_dir, processed_file)"
   ]
  },
  {
   "cell_type": "code",
   "execution_count": 3,
   "id": "76fa75f9-1f74-4f5e-9a7c-5871a650ff12",
   "metadata": {},
   "outputs": [],
   "source": [
    "# Establish Source & Target paths\n",
    "source_dirs = {\n",
    "    'train': local_base_dir + '/train_images/',\n",
    "    'validate': local_base_dir + '/validate_images/',\n",
    "    'test': local_base_dir + '/test_images/',\n",
    "    'sample_train': local_base_dir + '/sample_train_images/',\n",
    "    'sample_validate': local_base_dir + '/sample_validate_images/',\n",
    "    'sample_test': local_base_dir + '/sample_test_images/',\n",
    "}\n",
    "target_512_dirs = {\n",
    "    'train': local_base_dir + '/train_images_512/',\n",
    "    'validate': local_base_dir + '/validate_images_512/',\n",
    "    'test': local_base_dir + '/test_images_512/',\n",
    "    'sample_train': local_base_dir + '/sample_train_images_512/',\n",
    "    'sample_validate': local_base_dir + '/sample_validate_images_512/',\n",
    "    'sample_test': local_base_dir + '/sample_test_images_512/',\n",
    "}\n",
    "target_256_dirs = {\n",
    "    'train': local_base_dir + '/train_images_256/',\n",
    "    'validate': local_base_dir + '/validate_images_256/',\n",
    "    'test': local_base_dir + '/test_images_256/',\n",
    "    'sample_train': local_base_dir + '/sample_train_images_256/',\n",
    "    'sample_validate': local_base_dir + '/sample_validate_images_256/',\n",
    "    'sample_test': local_base_dir + '/sample_test_images_256/',\n",
    "}\n",
    "# Create target directories if they don't exist\n",
    "for dir_path in target_512_dirs.values():\n",
    "    if not os.path.exists(dir_path):\n",
    "        os.makedirs(dir_path)\n",
    "for dir_path in target_256_dirs.values():\n",
    "    if not os.path.exists(dir_path):\n",
    "        os.makedirs(dir_path)"
   ]
  },
  {
   "cell_type": "markdown",
   "id": "24dd45cf-156d-498c-8856-6578576d1bf2",
   "metadata": {},
   "source": [
    "# 3. Inspect Original Images Color Scheme\n",
    "<div style=\"float:left; font-size:0.7em;\"><a href=\"#returnToTop\">Return to Top</a></div> <a id='setup'></a>\n",
    "\n"
   ]
  },
  {
   "cell_type": "code",
   "execution_count": 6,
   "id": "7c66728a-c534-4c2f-88e1-deb0f7436b87",
   "metadata": {},
   "outputs": [
    {
     "name": "stdout",
     "output_type": "stream",
     "text": [
      "(3056, 2544, 3)\n",
      "The image is in color (RGB).\n"
     ]
    }
   ],
   "source": [
    "# Check the dimensionality of the downloaded images\n",
    "\n",
    "# Load a sample image\n",
    "img = cv2.imread(local_base_dir+'/size_original/sample_images/sample_train_images/00b654f0-892f76c1-f94ee4c4-26191a53-1f7a525c.jpg')\n",
    "print(img.shape)\n",
    "\n",
    "# Check if the image is grayscale\n",
    "if len(img.shape) == 2:\n",
    "    print(\"The image is genuine grayscale.\")\n",
    "elif len(img.shape) == 3 and img.shape[2] == 3:\n",
    "    print(\"The image is in color (RGB).\")"
   ]
  },
  {
   "cell_type": "markdown",
   "id": "fcee5d67-0572-4b4c-9318-43cb978fd153",
   "metadata": {},
   "source": [
    "# 4. Help Methods\n",
    "<div style=\"float:left; font-size:0.7em;\"><a href=\"#returnToTop\">Return to Top</a></div> <a id='setup'></a>\n",
    "\n"
   ]
  },
  {
   "cell_type": "code",
   "execution_count": 6,
   "id": "a773b32b-5a3c-4da5-b08c-18a981ddbd0d",
   "metadata": {},
   "outputs": [],
   "source": [
    "# Padding & Resizing method\n",
    "def pad_and_resize_image(image_path, sizes=[(512, 512), (256, 256)]):\n",
    "    # Read the image\n",
    "    img = cv2.imread(image_path)\n",
    "    img_rgb = cv2.cvtColor(img, cv2.COLOR_BGR2RGB)\n",
    "\n",
    "    # Determine the longer side and calculate the difference with the shorter side\n",
    "    longer_side = max(img.shape[:2])\n",
    "    top_bottom_padding = (longer_side - img.shape[0]) // 2\n",
    "    left_right_padding = (longer_side - img.shape[1]) // 2\n",
    "\n",
    "    # Pad the shorter side with black pixels\n",
    "    padded_img = cv2.copyMakeBorder(img_rgb, top_bottom_padding, top_bottom_padding,\n",
    "                                    left_right_padding, left_right_padding,\n",
    "                                    cv2.BORDER_CONSTANT, value=[0, 0, 0])\n",
    "\n",
    "    # Resize the padded image to the new sizes\n",
    "    resized_imgs = [cv2.resize(padded_img, size, interpolation=cv2.INTER_AREA) for size in sizes]\n",
    "\n",
    "    return [img_rgb] + resized_imgs"
   ]
  },
  {
   "cell_type": "code",
   "execution_count": 7,
   "id": "d70fd34d-ca73-4c23-80d3-701542600fd1",
   "metadata": {},
   "outputs": [],
   "source": [
    "# Process & Save method\n",
    "def process_and_save_images(source_dir, target_512_dir, target_256_dir, sizes=[(512, 512), (256, 256)]):\n",
    "    # List all image files in the source directory\n",
    "    image_files = [f for f in os.listdir(source_dir) if os.path.isfile(os.path.join(source_dir, f))]\n",
    "\n",
    "    # Loop over each image file\n",
    "    for image_file in image_files:\n",
    "        # Full path to the source image\n",
    "        image_path = os.path.join(source_dir, image_file)\n",
    "\n",
    "        # Process the image to get the resized versions for specified sizes\n",
    "        _, resized_512, resized_256 = pad_and_resize_image(image_path, sizes)\n",
    "\n",
    "        # Define target paths for the processed images\n",
    "        target_512_path = os.path.join(target_512_dir, image_file)\n",
    "        target_256_path = os.path.join(target_256_dir, image_file)\n",
    "\n",
    "        # Save the processed images\n",
    "        cv2.imwrite(target_512_path, cv2.cvtColor(resized_512, cv2.COLOR_RGB2BGR))  # Convert back to BGR for saving\n",
    "        cv2.imwrite(target_256_path, cv2.cvtColor(resized_256, cv2.COLOR_RGB2BGR))"
   ]
  },
  {
   "cell_type": "markdown",
   "id": "6a941ed1-eddd-4443-b9cb-c9d183e66cdd",
   "metadata": {},
   "source": [
    "# 5. Image Processing & Standardization\n",
    "<div style=\"float:left; font-size:0.7em;\"><a href=\"#returnToTop\">Return to Top</a></div> <a id='setup'></a>"
   ]
  },
  {
   "cell_type": "code",
   "execution_count": 8,
   "id": "df952fb9-e954-4893-988c-1c466d4c47ef",
   "metadata": {},
   "outputs": [
    {
     "name": "stdout",
     "output_type": "stream",
     "text": [
      "Processing train images...\n",
      "Completed processing train images.\n",
      "Processing validate images...\n",
      "Completed processing validate images.\n",
      "Processing test images...\n",
      "Completed processing test images.\n",
      "Processing sample_train images...\n",
      "Completed processing sample_train images.\n",
      "Processing sample_validate images...\n",
      "Completed processing sample_validate images.\n",
      "Processing sample_test images...\n",
      "Completed processing sample_test images.\n"
     ]
    }
   ],
   "source": [
    "# Loop over every set of directories (train, validate, test, and samples)\n",
    "for data_type in source_dirs.keys():\n",
    "    print(f\"Processing {data_type} images...\")\n",
    "    process_and_save_images(source_dirs[data_type], target_512_dirs[data_type], target_256_dirs[data_type])\n",
    "    print(f\"Completed processing {data_type} images.\")"
   ]
  }
 ],
 "metadata": {
  "kernelspec": {
   "display_name": "Python 3 (ipykernel)",
   "language": "python",
   "name": "python3"
  },
  "language_info": {
   "codemirror_mode": {
    "name": "ipython",
    "version": 3
   },
   "file_extension": ".py",
   "mimetype": "text/x-python",
   "name": "python",
   "nbconvert_exporter": "python",
   "pygments_lexer": "ipython3",
   "version": "3.11.0rc1"
  }
 },
 "nbformat": 4,
 "nbformat_minor": 5
}
