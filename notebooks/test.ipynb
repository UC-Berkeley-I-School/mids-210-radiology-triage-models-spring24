{
 "cells": [
  {
   "cell_type": "markdown",
   "id": "c2832ab7-0f4f-445e-bb4d-b1ef1010dd0c",
   "metadata": {},
   "source": [
    "# Hello World"
   ]
  },
  {
   "cell_type": "code",
   "execution_count": null,
   "id": "f7988c72-b175-4fb1-85bc-06864bd33445",
   "metadata": {},
   "outputs": [],
   "source": [
    "# this is another cell"
   ]
  },
  {
   "cell_type": "code",
   "execution_count": null,
   "id": "a2f483c7",
   "metadata": {},
   "outputs": [],
   "source": [
    "# this is yet another cell"
   ]
  }
 ],
 "metadata": {
  "kernelspec": {
   "display_name": "Python 3 (ipykernel)",
   "language": "python",
   "name": "python3"
  },
  "language_info": {
   "codemirror_mode": {
    "name": "ipython",
    "version": 3
   },
   "file_extension": ".py",
   "mimetype": "text/x-python",
   "name": "python",
   "nbconvert_exporter": "python",
   "pygments_lexer": "ipython3",
   "version": "3.10.12"
  }
 },
 "nbformat": 4,
 "nbformat_minor": 5
}
