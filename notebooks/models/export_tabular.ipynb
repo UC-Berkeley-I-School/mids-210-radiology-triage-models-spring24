{
 "cells": [
  {
   "cell_type": "markdown",
   "metadata": {},
   "source": [
    "# Export tabular model to ONNX format"
   ]
  },
  {
   "cell_type": "code",
   "execution_count": 1,
   "metadata": {},
   "outputs": [],
   "source": [
    "import numpy as np\n",
    "import onnxruntime as rt\n",
    "import pandas as pd\n",
    "from sklearn.pipeline import Pipeline\n",
    "from sklearn.preprocessing import OrdinalEncoder, RobustScaler\n",
    "from sklearn.compose import ColumnTransformer\n",
    "from sklearn.impute import SimpleImputer\n",
    "from xgboost import XGBClassifier, XGBRegressor, DMatrix, train as train_xgb\n",
    "from skl2onnx.common.data_types import FloatTensorType\n",
    "from skl2onnx import convert_sklearn, to_onnx, update_registered_converter\n",
    "\n",
    "from onnxmltools.convert.xgboost.operator_converters.XGBoost import convert_xgboost\n",
    "from onnxmltools.convert import convert_xgboost as convert_xgboost_booster\n",
    "import joblib\n",
    "import pickle"
   ]
  },
  {
   "cell_type": "markdown",
   "metadata": {},
   "source": [
    "## Preprocessors\n",
    "\n",
    "copied from [Tabular_Model_F_Adam.ipynb](../Tabular_Model_F_Adam.ipynb)"
   ]
  },
  {
   "cell_type": "code",
   "execution_count": 2,
   "metadata": {},
   "outputs": [],
   "source": [
    "# Define data type columns\n",
    "ordinal_cols = ['pain', 'acuity']\n",
    "ratio_cols   = ['temperature', 'heartrate', 'resprate', 'o2sat', 'sbp', 'dbp']\n",
    "\n",
    "# Preprocess parameters\n",
    "impOrd   = SimpleImputer(strategy='constant', fill_value=-1)\n",
    "impRatio = SimpleImputer(strategy='mean')\n",
    "scale    = RobustScaler(with_centering=False)\n",
    "encode   = OrdinalEncoder()\n",
    "\n",
    "# Simple imputing Preprocess\n",
    "ord_pp_steps  = Pipeline([('missing',impOrd),('Ordinal',encode),('Scale',scale)])\n",
    "ratio_pp_steps= Pipeline([('mean',impRatio),('Scale',scale)])\n",
    "\n",
    "# create the preprocessor stage of final pipeline\n",
    "t=[(\"ordinal\",ord_pp_steps,ordinal_cols),('ratio',ratio_pp_steps ,ratio_cols)]\n",
    "preprocessor = ColumnTransformer(transformers = t)"
   ]
  },
  {
   "cell_type": "markdown",
   "metadata": {},
   "source": [
    "## Load XGBoost model"
   ]
  },
  {
   "cell_type": "code",
   "execution_count": 3,
   "metadata": {},
   "outputs": [],
   "source": [
    "file_name = '../Saved_Models/xgb_tabular_model_4-1-24.pkl'\n",
    "\n",
    "with open(file_name, 'rb') as file:\n",
    "    loaded_xgb = pickle.load(file)"
   ]
  },
  {
   "cell_type": "code",
   "execution_count": 4,
   "metadata": {},
   "outputs": [
    {
     "data": {
      "text/plain": [
       "{'objective': 'multi:softmax',\n",
       " 'base_score': 0.5,\n",
       " 'booster': 'gbtree',\n",
       " 'callbacks': None,\n",
       " 'colsample_bylevel': 0.0,\n",
       " 'colsample_bynode': 0.0,\n",
       " 'colsample_bytree': 0.25,\n",
       " 'device': None,\n",
       " 'early_stopping_rounds': None,\n",
       " 'enable_categorical': False,\n",
       " 'eval_metric': None,\n",
       " 'feature_types': None,\n",
       " 'gamma': 0.0,\n",
       " 'grow_policy': None,\n",
       " 'importance_type': 'gain',\n",
       " 'interaction_constraints': None,\n",
       " 'learning_rate': 0.05,\n",
       " 'max_bin': None,\n",
       " 'max_cat_threshold': None,\n",
       " 'max_cat_to_onehot': None,\n",
       " 'max_delta_step': 0.0,\n",
       " 'max_depth': 1,\n",
       " 'max_leaves': None,\n",
       " 'min_child_weight': 1,\n",
       " 'missing': nan,\n",
       " 'monotone_constraints': None,\n",
       " 'multi_strategy': None,\n",
       " 'n_estimators': 320,\n",
       " 'n_jobs': -1,\n",
       " 'num_parallel_tree': 1,\n",
       " 'random_state': 711,\n",
       " 'reg_alpha': 0.5,\n",
       " 'reg_lambda': 0,\n",
       " 'sampling_method': None,\n",
       " 'scale_pos_weight': None,\n",
       " 'subsample': 0.5,\n",
       " 'tree_method': 'hist',\n",
       " 'validate_parameters': False,\n",
       " 'verbosity': 2,\n",
       " 'num_class': 5,\n",
       " 'gpu_id': None}"
      ]
     },
     "execution_count": 4,
     "metadata": {},
     "output_type": "execute_result"
    }
   ],
   "source": [
    "loaded_xgb.get_params()"
   ]
  },
  {
   "cell_type": "code",
   "execution_count": 5,
   "metadata": {},
   "outputs": [],
   "source": [
    "pipe = Pipeline([('preprocess',preprocessor), ('estimator', loaded_xgb)])"
   ]
  },
  {
   "cell_type": "code",
   "execution_count": 6,
   "metadata": {},
   "outputs": [
    {
     "data": {
      "text/plain": [
       "{'memory': None,\n",
       " 'steps': [('preprocess',\n",
       "   ColumnTransformer(transformers=[('ordinal',\n",
       "                                    Pipeline(steps=[('missing',\n",
       "                                                     SimpleImputer(fill_value=-1,\n",
       "                                                                   strategy='constant')),\n",
       "                                                    ('Ordinal', OrdinalEncoder()),\n",
       "                                                    ('Scale',\n",
       "                                                     RobustScaler(with_centering=False))]),\n",
       "                                    ['pain', 'acuity']),\n",
       "                                   ('ratio',\n",
       "                                    Pipeline(steps=[('mean', SimpleImputer()),\n",
       "                                                    ('Scale',\n",
       "                                                     RobustScaler(with_centering=False))]),\n",
       "                                    ['temperature', 'heartrate', 'resprate',\n",
       "                                     'o2sat', 'sbp', 'dbp'])])),\n",
       "  ('estimator',\n",
       "   XGBClassifier(base_score=0.5, booster='gbtree', callbacks=None,\n",
       "                 colsample_bylevel=0.0, colsample_bynode=0.0,\n",
       "                 colsample_bytree=0.25, device=None, early_stopping_rounds=None,\n",
       "                 enable_categorical=False, eval_metric=None, feature_types=None,\n",
       "                 gamma=0.0, gpu_id=None, grow_policy=None, importance_type='gain',\n",
       "                 interaction_constraints=None, learning_rate=0.05, max_bin=None,\n",
       "                 max_cat_threshold=None, max_cat_to_onehot=None,\n",
       "                 max_delta_step=0.0, max_depth=1, max_leaves=None,\n",
       "                 min_child_weight=1, missing=nan, monotone_constraints=None,\n",
       "                 multi_strategy=None, n_estimators=320, n_jobs=-1, num_class=5, ...))],\n",
       " 'verbose': False,\n",
       " 'preprocess': ColumnTransformer(transformers=[('ordinal',\n",
       "                                  Pipeline(steps=[('missing',\n",
       "                                                   SimpleImputer(fill_value=-1,\n",
       "                                                                 strategy='constant')),\n",
       "                                                  ('Ordinal', OrdinalEncoder()),\n",
       "                                                  ('Scale',\n",
       "                                                   RobustScaler(with_centering=False))]),\n",
       "                                  ['pain', 'acuity']),\n",
       "                                 ('ratio',\n",
       "                                  Pipeline(steps=[('mean', SimpleImputer()),\n",
       "                                                  ('Scale',\n",
       "                                                   RobustScaler(with_centering=False))]),\n",
       "                                  ['temperature', 'heartrate', 'resprate',\n",
       "                                   'o2sat', 'sbp', 'dbp'])]),\n",
       " 'estimator': XGBClassifier(base_score=0.5, booster='gbtree', callbacks=None,\n",
       "               colsample_bylevel=0.0, colsample_bynode=0.0,\n",
       "               colsample_bytree=0.25, device=None, early_stopping_rounds=None,\n",
       "               enable_categorical=False, eval_metric=None, feature_types=None,\n",
       "               gamma=0.0, gpu_id=None, grow_policy=None, importance_type='gain',\n",
       "               interaction_constraints=None, learning_rate=0.05, max_bin=None,\n",
       "               max_cat_threshold=None, max_cat_to_onehot=None,\n",
       "               max_delta_step=0.0, max_depth=1, max_leaves=None,\n",
       "               min_child_weight=1, missing=nan, monotone_constraints=None,\n",
       "               multi_strategy=None, n_estimators=320, n_jobs=-1, num_class=5, ...),\n",
       " 'preprocess__n_jobs': None,\n",
       " 'preprocess__remainder': 'drop',\n",
       " 'preprocess__sparse_threshold': 0.3,\n",
       " 'preprocess__transformer_weights': None,\n",
       " 'preprocess__transformers': [('ordinal',\n",
       "   Pipeline(steps=[('missing', SimpleImputer(fill_value=-1, strategy='constant')),\n",
       "                   ('Ordinal', OrdinalEncoder()),\n",
       "                   ('Scale', RobustScaler(with_centering=False))]),\n",
       "   ['pain', 'acuity']),\n",
       "  ('ratio',\n",
       "   Pipeline(steps=[('mean', SimpleImputer()),\n",
       "                   ('Scale', RobustScaler(with_centering=False))]),\n",
       "   ['temperature', 'heartrate', 'resprate', 'o2sat', 'sbp', 'dbp'])],\n",
       " 'preprocess__verbose': False,\n",
       " 'preprocess__verbose_feature_names_out': True,\n",
       " 'preprocess__ordinal': Pipeline(steps=[('missing', SimpleImputer(fill_value=-1, strategy='constant')),\n",
       "                 ('Ordinal', OrdinalEncoder()),\n",
       "                 ('Scale', RobustScaler(with_centering=False))]),\n",
       " 'preprocess__ratio': Pipeline(steps=[('mean', SimpleImputer()),\n",
       "                 ('Scale', RobustScaler(with_centering=False))]),\n",
       " 'preprocess__ordinal__memory': None,\n",
       " 'preprocess__ordinal__steps': [('missing',\n",
       "   SimpleImputer(fill_value=-1, strategy='constant')),\n",
       "  ('Ordinal', OrdinalEncoder()),\n",
       "  ('Scale', RobustScaler(with_centering=False))],\n",
       " 'preprocess__ordinal__verbose': False,\n",
       " 'preprocess__ordinal__missing': SimpleImputer(fill_value=-1, strategy='constant'),\n",
       " 'preprocess__ordinal__Ordinal': OrdinalEncoder(),\n",
       " 'preprocess__ordinal__Scale': RobustScaler(with_centering=False),\n",
       " 'preprocess__ordinal__missing__add_indicator': False,\n",
       " 'preprocess__ordinal__missing__copy': True,\n",
       " 'preprocess__ordinal__missing__fill_value': -1,\n",
       " 'preprocess__ordinal__missing__keep_empty_features': False,\n",
       " 'preprocess__ordinal__missing__missing_values': nan,\n",
       " 'preprocess__ordinal__missing__strategy': 'constant',\n",
       " 'preprocess__ordinal__Ordinal__categories': 'auto',\n",
       " 'preprocess__ordinal__Ordinal__dtype': numpy.float64,\n",
       " 'preprocess__ordinal__Ordinal__encoded_missing_value': nan,\n",
       " 'preprocess__ordinal__Ordinal__handle_unknown': 'error',\n",
       " 'preprocess__ordinal__Ordinal__max_categories': None,\n",
       " 'preprocess__ordinal__Ordinal__min_frequency': None,\n",
       " 'preprocess__ordinal__Ordinal__unknown_value': None,\n",
       " 'preprocess__ordinal__Scale__copy': True,\n",
       " 'preprocess__ordinal__Scale__quantile_range': (25.0, 75.0),\n",
       " 'preprocess__ordinal__Scale__unit_variance': False,\n",
       " 'preprocess__ordinal__Scale__with_centering': False,\n",
       " 'preprocess__ordinal__Scale__with_scaling': True,\n",
       " 'preprocess__ratio__memory': None,\n",
       " 'preprocess__ratio__steps': [('mean', SimpleImputer()),\n",
       "  ('Scale', RobustScaler(with_centering=False))],\n",
       " 'preprocess__ratio__verbose': False,\n",
       " 'preprocess__ratio__mean': SimpleImputer(),\n",
       " 'preprocess__ratio__Scale': RobustScaler(with_centering=False),\n",
       " 'preprocess__ratio__mean__add_indicator': False,\n",
       " 'preprocess__ratio__mean__copy': True,\n",
       " 'preprocess__ratio__mean__fill_value': None,\n",
       " 'preprocess__ratio__mean__keep_empty_features': False,\n",
       " 'preprocess__ratio__mean__missing_values': nan,\n",
       " 'preprocess__ratio__mean__strategy': 'mean',\n",
       " 'preprocess__ratio__Scale__copy': True,\n",
       " 'preprocess__ratio__Scale__quantile_range': (25.0, 75.0),\n",
       " 'preprocess__ratio__Scale__unit_variance': False,\n",
       " 'preprocess__ratio__Scale__with_centering': False,\n",
       " 'preprocess__ratio__Scale__with_scaling': True,\n",
       " 'estimator__objective': 'multi:softmax',\n",
       " 'estimator__base_score': 0.5,\n",
       " 'estimator__booster': 'gbtree',\n",
       " 'estimator__callbacks': None,\n",
       " 'estimator__colsample_bylevel': 0.0,\n",
       " 'estimator__colsample_bynode': 0.0,\n",
       " 'estimator__colsample_bytree': 0.25,\n",
       " 'estimator__device': None,\n",
       " 'estimator__early_stopping_rounds': None,\n",
       " 'estimator__enable_categorical': False,\n",
       " 'estimator__eval_metric': None,\n",
       " 'estimator__feature_types': None,\n",
       " 'estimator__gamma': 0.0,\n",
       " 'estimator__grow_policy': None,\n",
       " 'estimator__importance_type': 'gain',\n",
       " 'estimator__interaction_constraints': None,\n",
       " 'estimator__learning_rate': 0.05,\n",
       " 'estimator__max_bin': None,\n",
       " 'estimator__max_cat_threshold': None,\n",
       " 'estimator__max_cat_to_onehot': None,\n",
       " 'estimator__max_delta_step': 0.0,\n",
       " 'estimator__max_depth': 1,\n",
       " 'estimator__max_leaves': None,\n",
       " 'estimator__min_child_weight': 1,\n",
       " 'estimator__missing': nan,\n",
       " 'estimator__monotone_constraints': None,\n",
       " 'estimator__multi_strategy': None,\n",
       " 'estimator__n_estimators': 320,\n",
       " 'estimator__n_jobs': -1,\n",
       " 'estimator__num_parallel_tree': 1,\n",
       " 'estimator__random_state': 711,\n",
       " 'estimator__reg_alpha': 0.5,\n",
       " 'estimator__reg_lambda': 0,\n",
       " 'estimator__sampling_method': None,\n",
       " 'estimator__scale_pos_weight': None,\n",
       " 'estimator__subsample': 0.5,\n",
       " 'estimator__tree_method': 'hist',\n",
       " 'estimator__validate_parameters': False,\n",
       " 'estimator__verbosity': 2,\n",
       " 'estimator__num_class': 5,\n",
       " 'estimator__gpu_id': None}"
      ]
     },
     "execution_count": 6,
     "metadata": {},
     "output_type": "execute_result"
    }
   ],
   "source": [
    "pipe.get_params()"
   ]
  },
  {
   "cell_type": "code",
   "execution_count": 7,
   "metadata": {},
   "outputs": [
    {
     "data": {
      "text/html": [
       "<div>\n",
       "<style scoped>\n",
       "    .dataframe tbody tr th:only-of-type {\n",
       "        vertical-align: middle;\n",
       "    }\n",
       "\n",
       "    .dataframe tbody tr th {\n",
       "        vertical-align: top;\n",
       "    }\n",
       "\n",
       "    .dataframe thead th {\n",
       "        text-align: right;\n",
       "    }\n",
       "</style>\n",
       "<table border=\"1\" class=\"dataframe\">\n",
       "  <thead>\n",
       "    <tr style=\"text-align: right;\">\n",
       "      <th></th>\n",
       "      <th>pain</th>\n",
       "      <th>acuity</th>\n",
       "      <th>temperature</th>\n",
       "      <th>heartrate</th>\n",
       "      <th>resprate</th>\n",
       "      <th>o2sat</th>\n",
       "      <th>sbp</th>\n",
       "      <th>dbp</th>\n",
       "    </tr>\n",
       "  </thead>\n",
       "  <tbody>\n",
       "    <tr>\n",
       "      <th>0</th>\n",
       "      <td>0</td>\n",
       "      <td>2</td>\n",
       "      <td>98.1</td>\n",
       "      <td>61</td>\n",
       "      <td>18</td>\n",
       "      <td>95</td>\n",
       "      <td>154</td>\n",
       "      <td>85</td>\n",
       "    </tr>\n",
       "  </tbody>\n",
       "</table>\n",
       "</div>"
      ],
      "text/plain": [
       "   pain  acuity  temperature  heartrate  resprate  o2sat  sbp  dbp\n",
       "0     0       2         98.1         61        18     95  154   85"
      ]
     },
     "execution_count": 7,
     "metadata": {},
     "output_type": "execute_result"
    }
   ],
   "source": [
    "sample = pd.DataFrame([{'pain': 0, 'acuity': 2, 'temperature': 98.1, 'heartrate': 61, 'resprate': 18, 'o2sat': 95, 'sbp': 154, 'dbp': 85}], index=None)\n",
    "sample"
   ]
  },
  {
   "cell_type": "code",
   "execution_count": 8,
   "metadata": {},
   "outputs": [
    {
     "ename": "NotFittedError",
     "evalue": "This ColumnTransformer instance is not fitted yet. Call 'fit' with appropriate arguments before using this estimator.",
     "output_type": "error",
     "traceback": [
      "\u001b[0;31m---------------------------------------------------------------------------\u001b[0m",
      "\u001b[0;31mNotFittedError\u001b[0m                            Traceback (most recent call last)",
      "Cell \u001b[0;32mIn[8], line 1\u001b[0m\n\u001b[0;32m----> 1\u001b[0m \u001b[43mpipe\u001b[49m\u001b[38;5;241;43m.\u001b[39;49m\u001b[43mpredict_proba\u001b[49m\u001b[43m(\u001b[49m\u001b[43msample\u001b[49m\u001b[43m)\u001b[49m\n",
      "File \u001b[0;32m~/Documents/GitHub.nosync/mids-210-radiology-triage-models-spring24/.conda/lib/python3.11/site-packages/sklearn/pipeline.py:722\u001b[0m, in \u001b[0;36mPipeline.predict_proba\u001b[0;34m(self, X, **params)\u001b[0m\n\u001b[1;32m    720\u001b[0m \u001b[38;5;28;01mif\u001b[39;00m \u001b[38;5;129;01mnot\u001b[39;00m _routing_enabled():\n\u001b[1;32m    721\u001b[0m     \u001b[38;5;28;01mfor\u001b[39;00m _, name, transform \u001b[38;5;129;01min\u001b[39;00m \u001b[38;5;28mself\u001b[39m\u001b[38;5;241m.\u001b[39m_iter(with_final\u001b[38;5;241m=\u001b[39m\u001b[38;5;28;01mFalse\u001b[39;00m):\n\u001b[0;32m--> 722\u001b[0m         Xt \u001b[38;5;241m=\u001b[39m \u001b[43mtransform\u001b[49m\u001b[38;5;241;43m.\u001b[39;49m\u001b[43mtransform\u001b[49m\u001b[43m(\u001b[49m\u001b[43mXt\u001b[49m\u001b[43m)\u001b[49m\n\u001b[1;32m    723\u001b[0m     \u001b[38;5;28;01mreturn\u001b[39;00m \u001b[38;5;28mself\u001b[39m\u001b[38;5;241m.\u001b[39msteps[\u001b[38;5;241m-\u001b[39m\u001b[38;5;241m1\u001b[39m][\u001b[38;5;241m1\u001b[39m]\u001b[38;5;241m.\u001b[39mpredict_proba(Xt, \u001b[38;5;241m*\u001b[39m\u001b[38;5;241m*\u001b[39mparams)\n\u001b[1;32m    725\u001b[0m \u001b[38;5;66;03m# metadata routing enabled\u001b[39;00m\n",
      "File \u001b[0;32m~/Documents/GitHub.nosync/mids-210-radiology-triage-models-spring24/.conda/lib/python3.11/site-packages/sklearn/utils/_set_output.py:295\u001b[0m, in \u001b[0;36m_wrap_method_output.<locals>.wrapped\u001b[0;34m(self, X, *args, **kwargs)\u001b[0m\n\u001b[1;32m    293\u001b[0m \u001b[38;5;129m@wraps\u001b[39m(f)\n\u001b[1;32m    294\u001b[0m \u001b[38;5;28;01mdef\u001b[39;00m \u001b[38;5;21mwrapped\u001b[39m(\u001b[38;5;28mself\u001b[39m, X, \u001b[38;5;241m*\u001b[39margs, \u001b[38;5;241m*\u001b[39m\u001b[38;5;241m*\u001b[39mkwargs):\n\u001b[0;32m--> 295\u001b[0m     data_to_wrap \u001b[38;5;241m=\u001b[39m \u001b[43mf\u001b[49m\u001b[43m(\u001b[49m\u001b[38;5;28;43mself\u001b[39;49m\u001b[43m,\u001b[49m\u001b[43m \u001b[49m\u001b[43mX\u001b[49m\u001b[43m,\u001b[49m\u001b[43m \u001b[49m\u001b[38;5;241;43m*\u001b[39;49m\u001b[43margs\u001b[49m\u001b[43m,\u001b[49m\u001b[43m \u001b[49m\u001b[38;5;241;43m*\u001b[39;49m\u001b[38;5;241;43m*\u001b[39;49m\u001b[43mkwargs\u001b[49m\u001b[43m)\u001b[49m\n\u001b[1;32m    296\u001b[0m     \u001b[38;5;28;01mif\u001b[39;00m \u001b[38;5;28misinstance\u001b[39m(data_to_wrap, \u001b[38;5;28mtuple\u001b[39m):\n\u001b[1;32m    297\u001b[0m         \u001b[38;5;66;03m# only wrap the first output for cross decomposition\u001b[39;00m\n\u001b[1;32m    298\u001b[0m         return_tuple \u001b[38;5;241m=\u001b[39m (\n\u001b[1;32m    299\u001b[0m             _wrap_data_with_container(method, data_to_wrap[\u001b[38;5;241m0\u001b[39m], X, \u001b[38;5;28mself\u001b[39m),\n\u001b[1;32m    300\u001b[0m             \u001b[38;5;241m*\u001b[39mdata_to_wrap[\u001b[38;5;241m1\u001b[39m:],\n\u001b[1;32m    301\u001b[0m         )\n",
      "File \u001b[0;32m~/Documents/GitHub.nosync/mids-210-radiology-triage-models-spring24/.conda/lib/python3.11/site-packages/sklearn/compose/_column_transformer.py:973\u001b[0m, in \u001b[0;36mColumnTransformer.transform\u001b[0;34m(self, X, **params)\u001b[0m\n\u001b[1;32m    947\u001b[0m \u001b[38;5;250m\u001b[39m\u001b[38;5;124;03m\"\"\"Transform X separately by each transformer, concatenate results.\u001b[39;00m\n\u001b[1;32m    948\u001b[0m \n\u001b[1;32m    949\u001b[0m \u001b[38;5;124;03mParameters\u001b[39;00m\n\u001b[0;32m   (...)\u001b[0m\n\u001b[1;32m    970\u001b[0m \u001b[38;5;124;03m    sparse matrices.\u001b[39;00m\n\u001b[1;32m    971\u001b[0m \u001b[38;5;124;03m\"\"\"\u001b[39;00m\n\u001b[1;32m    972\u001b[0m _raise_for_params(params, \u001b[38;5;28mself\u001b[39m, \u001b[38;5;124m\"\u001b[39m\u001b[38;5;124mtransform\u001b[39m\u001b[38;5;124m\"\u001b[39m)\n\u001b[0;32m--> 973\u001b[0m \u001b[43mcheck_is_fitted\u001b[49m\u001b[43m(\u001b[49m\u001b[38;5;28;43mself\u001b[39;49m\u001b[43m)\u001b[49m\n\u001b[1;32m    974\u001b[0m X \u001b[38;5;241m=\u001b[39m _check_X(X)\n\u001b[1;32m    976\u001b[0m \u001b[38;5;66;03m# If ColumnTransformer is fit using a dataframe, and now a dataframe is\u001b[39;00m\n\u001b[1;32m    977\u001b[0m \u001b[38;5;66;03m# passed to be transformed, we select columns by name instead. This\u001b[39;00m\n\u001b[1;32m    978\u001b[0m \u001b[38;5;66;03m# enables the user to pass X at transform time with extra columns which\u001b[39;00m\n\u001b[1;32m    979\u001b[0m \u001b[38;5;66;03m# were not present in fit time, and the order of the columns doesn't\u001b[39;00m\n\u001b[1;32m    980\u001b[0m \u001b[38;5;66;03m# matter.\u001b[39;00m\n",
      "File \u001b[0;32m~/Documents/GitHub.nosync/mids-210-radiology-triage-models-spring24/.conda/lib/python3.11/site-packages/sklearn/utils/validation.py:1622\u001b[0m, in \u001b[0;36mcheck_is_fitted\u001b[0;34m(estimator, attributes, msg, all_or_any)\u001b[0m\n\u001b[1;32m   1619\u001b[0m     \u001b[38;5;28;01mraise\u001b[39;00m \u001b[38;5;167;01mTypeError\u001b[39;00m(\u001b[38;5;124m\"\u001b[39m\u001b[38;5;132;01m%s\u001b[39;00m\u001b[38;5;124m is not an estimator instance.\u001b[39m\u001b[38;5;124m\"\u001b[39m \u001b[38;5;241m%\u001b[39m (estimator))\n\u001b[1;32m   1621\u001b[0m \u001b[38;5;28;01mif\u001b[39;00m \u001b[38;5;129;01mnot\u001b[39;00m _is_fitted(estimator, attributes, all_or_any):\n\u001b[0;32m-> 1622\u001b[0m     \u001b[38;5;28;01mraise\u001b[39;00m NotFittedError(msg \u001b[38;5;241m%\u001b[39m {\u001b[38;5;124m\"\u001b[39m\u001b[38;5;124mname\u001b[39m\u001b[38;5;124m\"\u001b[39m: \u001b[38;5;28mtype\u001b[39m(estimator)\u001b[38;5;241m.\u001b[39m\u001b[38;5;18m__name__\u001b[39m})\n",
      "\u001b[0;31mNotFittedError\u001b[0m: This ColumnTransformer instance is not fitted yet. Call 'fit' with appropriate arguments before using this estimator."
     ]
    }
   ],
   "source": [
    "pipe.predict_proba(sample)"
   ]
  },
  {
   "cell_type": "code",
   "execution_count": null,
   "metadata": {},
   "outputs": [],
   "source": []
  }
 ],
 "metadata": {
  "kernelspec": {
   "display_name": "Python 3",
   "language": "python",
   "name": "python3"
  },
  "language_info": {
   "codemirror_mode": {
    "name": "ipython",
    "version": 3
   },
   "file_extension": ".py",
   "mimetype": "text/x-python",
   "name": "python",
   "nbconvert_exporter": "python",
   "pygments_lexer": "ipython3",
   "version": "3.11.8"
  }
 },
 "nbformat": 4,
 "nbformat_minor": 2
}
